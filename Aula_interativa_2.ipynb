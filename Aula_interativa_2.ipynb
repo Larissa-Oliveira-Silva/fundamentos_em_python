{
  "nbformat": 4,
  "nbformat_minor": 0,
  "metadata": {
    "colab": {
      "name": "Aula_interativa_2.ipynb",
      "provenance": [],
      "collapsed_sections": []
    },
    "kernelspec": {
      "name": "python3",
      "display_name": "Python 3"
    }
  },
  "cells": [
    {
      "cell_type": "markdown",
      "metadata": {
        "id": "_0nEneeA1KcD"
      },
      "source": [
        "# **Aula Interativa 2**"
      ]
    },
    {
      "cell_type": "markdown",
      "metadata": {
        "id": "ZehlCpjS05Iu"
      },
      "source": [
        "**Professor:** Erick Faria  \n",
        "\n",
        "**e-mail:** contato@escrivaninhacientifica.com \n",
        "\n",
        "**website:** www.escrivaninhacientifica.com  \n",
        "\n",
        "**youtube:** https://www.youtube.com/c/EscrivaninhaCient%C3%ADfica  \n",
        "\n",
        "**GitHub:** https://github.com/erickfaria \n"
      ]
    },
    {
      "cell_type": "markdown",
      "metadata": {
        "id": "Na0VHROI7Vmf"
      },
      "source": [
        "# **Parte 1**"
      ]
    },
    {
      "cell_type": "markdown",
      "metadata": {
        "id": "guG7BKWz7nzB"
      },
      "source": [
        "## **Nesta aula**\n",
        "\n",
        "\n",
        "\n",
        "1.   Dúvidas dos alunos\n",
        "2.   Projetos em Python: Por que são importantes?\n",
        "3.   Por que construir projetos é a melhor maneira de aprender?\n",
        "4.   Como iniciar um projeto?\n",
        "5.   Aprender por meio de projetos vai lhe ajudar…\n",
        "6.   Prática\n",
        "\n",
        "\n",
        "\n"
      ]
    },
    {
      "cell_type": "markdown",
      "metadata": {
        "id": "U4i9fn8q689_"
      },
      "source": [
        "## **Duvidas no Chat**\n",
        "\n",
        "![image.png](data:image/png;base64,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)"
      ]
    },
    {
      "cell_type": "markdown",
      "metadata": {
        "id": "NFawsJ2O8_3Z"
      },
      "source": [
        "## **Projetos Python: Por que são tão importantes?**\n",
        "\n",
        "Trabalhar em coisas que você se importa e/ou se interessa ajuda a manter seus estudos.  \n",
        "Mesmo quando o desafio é grande.\n"
      ]
    },
    {
      "cell_type": "markdown",
      "metadata": {
        "id": "DJdVM2AqBCIO"
      },
      "source": [
        "## **Por que construir projetos é a melhor maneira de aprender?**\n",
        "\n",
        "1. **Motivação:** Tenha o impulso para continuar  \n",
        "2. **Eficiência:** Só saiba o que você precisa  \n",
        "3. **Resolução de problemas:** Aprenda a habilidade de programação chave  \n",
        "4. **Portfólio:** Use seus projetos para ajudar a conseguir um emprego\n"
      ]
    },
    {
      "cell_type": "markdown",
      "metadata": {
        "id": "baohaNo6CaS_"
      },
      "source": [
        "## **Como iniciar um projeto?**\n",
        "\n",
        "\n",
        "\n",
        "1.   Escolha um tópico em que você está interessado\n",
        "2.   Pense em seus objetivos\n",
        "3.   Começar devagar, não tenha pressa\n",
        "\n"
      ]
    },
    {
      "cell_type": "markdown",
      "metadata": {
        "id": "-s_45DRSC6tY"
      },
      "source": [
        "## **Aprender por meio de projetos vai lhe ajudar…**\n",
        "\n",
        "1. Aumentar a sua confiança\n",
        "2. Experimentar coisas novas\n",
        "3. Conhecer melhor o ciclo de desenvolvimento (software; game; web)\n",
        "4. Revisar e dominar os conceitos de programação"
      ]
    },
    {
      "cell_type": "markdown",
      "metadata": {
        "id": "jSbhO9vG7Qej"
      },
      "source": [
        "# **Parte 2**"
      ]
    },
    {
      "cell_type": "markdown",
      "metadata": {
        "id": "_-YJEQsyKg7O"
      },
      "source": [
        "## Exemplo 1 - Lambda - Alguns exemplos simples"
      ]
    },
    {
      "cell_type": "code",
      "metadata": {
        "colab": {
          "base_uri": "https://localhost:8080/"
        },
        "id": "nqs8h8MVKfgp",
        "outputId": "c0a0cf89-990a-439d-e4c3-f9e3789460d2"
      },
      "source": [
        "x = lambda y : y + 30\n",
        "\n",
        "print(x(10)) "
      ],
      "execution_count": null,
      "outputs": [
        {
          "output_type": "stream",
          "text": [
            "40\n"
          ],
          "name": "stdout"
        }
      ]
    },
    {
      "cell_type": "code",
      "metadata": {
        "colab": {
          "base_uri": "https://localhost:8080/"
        },
        "id": "Ho2JAriLKlN7",
        "outputId": "d039f9a1-c020-464e-d607-d9743b59221e"
      },
      "source": [
        "x = lambda valor_1, valor_2 : valor_1 * valor_2\n",
        "\n",
        "print(x(10, 3))"
      ],
      "execution_count": null,
      "outputs": [
        {
          "output_type": "stream",
          "text": [
            "30\n"
          ],
          "name": "stdout"
        }
      ]
    },
    {
      "cell_type": "code",
      "metadata": {
        "colab": {
          "base_uri": "https://localhost:8080/"
        },
        "id": "ARngbQk9Kt0g",
        "outputId": "a970ac9e-b57f-4637-c09c-272c5e553caf"
      },
      "source": [
        "x = lambda x, y, z : x + y + z\n",
        "\n",
        "print(x(10, 10, 30)) "
      ],
      "execution_count": null,
      "outputs": [
        {
          "output_type": "stream",
          "text": [
            "50\n"
          ],
          "name": "stdout"
        }
      ]
    },
    {
      "cell_type": "code",
      "metadata": {
        "colab": {
          "base_uri": "https://localhost:8080/"
        },
        "id": "m0BKOf8cLYUp",
        "outputId": "6d7fa912-b399-4dba-b4cc-d961af8c0c79"
      },
      "source": [
        "def nome_funcao(n):\n",
        "  return lambda a : a * n\n",
        "\n",
        "multiplicador = nome_funcao(6) # Aqui eu digito o valor pelo qual quero multiplicar\n",
        "\n",
        "print(multiplicador(10))"
      ],
      "execution_count": null,
      "outputs": [
        {
          "output_type": "stream",
          "text": [
            "60\n"
          ],
          "name": "stdout"
        }
      ]
    },
    {
      "cell_type": "code",
      "metadata": {
        "colab": {
          "base_uri": "https://localhost:8080/"
        },
        "id": "_y34ACYsLstF",
        "outputId": "259a526b-bcd6-478f-98a4-387c16c63574"
      },
      "source": [
        "lista = [1, 5, 4, 6, 8, 11, 3, 12, 50, 58]\n",
        "\n",
        "nova_lista = list(filter(lambda x: (x%2 == 0), lista))\n",
        "\n",
        "print(nova_lista)"
      ],
      "execution_count": null,
      "outputs": [
        {
          "output_type": "stream",
          "text": [
            "[4, 6, 8, 12, 50, 58]\n"
          ],
          "name": "stdout"
        }
      ]
    },
    {
      "cell_type": "markdown",
      "metadata": {
        "id": "E-4d9O3ulR2H"
      },
      "source": [
        "## Exemplo 2 - Adivinhe o número"
      ]
    },
    {
      "cell_type": "code",
      "metadata": {
        "id": "FcnFgvDzfm4q",
        "colab": {
          "base_uri": "https://localhost:8080/"
        },
        "outputId": "60ce3fc0-c2ee-43c0-a457-3075e7128bac"
      },
      "source": [
        "import random\n",
        "\n",
        "n = random.randint(1, 99)\n",
        "\n",
        "adivinhe = int(input('Tente adivinhar um número entre 1 e 99: '))\n",
        "\n",
        "while n != adivinhe: #Lê-se: 'Enquanto o n for diferente da variável adivinhe, faça...'\n",
        "    print()\n",
        "    if adivinhe < n:\n",
        "        print('O número é maior que este')\n",
        "        adivinhe = int(input('Tente outra vez: '))\n",
        "    elif adivinhe > n:\n",
        "        print('O número é menor que este')\n",
        "        adivinhe = int(input('Tente outra vez: '))\n",
        "    else:\n",
        "        print('Você acertou!')\n",
        "        break # O comando break serve para 'parar' o loop\n",
        "    print()\n"
      ],
      "execution_count": null,
      "outputs": [
        {
          "output_type": "stream",
          "text": [
            "Tente adivinhar um número entre 1 e 99: 50\n",
            "\n",
            "O número é maior que este\n",
            "Tente outra vez: 60\n",
            "\n",
            "\n",
            "O número é maior que este\n",
            "Tente outra vez: 70\n",
            "\n",
            "\n",
            "O número é maior que este\n",
            "Tente outra vez: 80\n",
            "\n",
            "\n",
            "O número é maior que este\n",
            "Tente outra vez: 90\n",
            "\n",
            "\n",
            "O número é menor que este\n",
            "Tente outra vez: 85\n",
            "\n",
            "\n",
            "O número é menor que este\n",
            "Tente outra vez: 82\n",
            "\n",
            "\n",
            "O número é maior que este\n",
            "Tente outra vez: 83\n",
            "\n"
          ],
          "name": "stdout"
        }
      ]
    },
    {
      "cell_type": "markdown",
      "metadata": {
        "id": "32cMeApPoYvB"
      },
      "source": [
        "## Exemplo 3 - Jogo Pedra, Papel, Tesoura"
      ]
    },
    {
      "cell_type": "code",
      "metadata": {
        "id": "8a04mjGRbNBA",
        "colab": {
          "base_uri": "https://localhost:8080/",
          "height": 708
        },
        "outputId": "bf7ea9cd-5462-433a-fb38-d8a75317559e"
      },
      "source": [
        "# Importa a função randint que retorna um valor aleatório\n",
        "from random import randint\n",
        "\n",
        "# Cria uma lista com as Opções\n",
        "t = ['Pedra', 'Papel', 'Tesoura']\n",
        "\n",
        "# Coloca o computador para jogar dentro das opções \n",
        "computador = t[randint(0,2)] \n",
        "\n",
        "# Coloca o jogador como False\n",
        "jogador = False\n",
        "\n",
        "while jogador == False:\n",
        "    jogador = input('Pedra, Papel, Tesoura? ')\n",
        "    if jogador == computador:\n",
        "        print('Empate!')\n",
        "    elif jogador == 'Pedra':\n",
        "        if computador == 'Papel':\n",
        "            print('Você Perdeu', computador, 'embrulha', jogador)\n",
        "        else:\n",
        "            print('Você venceu!', jogador, 'esmaga', computador)\n",
        "    elif jogador == 'Papel':\n",
        "        if computador == 'Tesoura':\n",
        "            print('Você Perdeu', computador, 'corta', jogador)\n",
        "        else:\n",
        "            print('Você venceu!', jogador, 'embrulha', computador)\n",
        "    elif jogador == 'Tesoura':\n",
        "        if computador == 'Pedra':\n",
        "            print('Você Perdeu', computador, 'esmaga', jogador)\n",
        "        else:\n",
        "            print('Você venceu!', jogador, 'corta', computador)\n",
        "    else:\n",
        "        print('Essa não é uma jogada válida. Verifique a ortografia!')\n",
        "    \n",
        "    # Para continuar o jogo\n",
        "    jogador = False\n",
        "    computador = t[randint(0,2)]"
      ],
      "execution_count": null,
      "outputs": [
        {
          "output_type": "stream",
          "text": [
            "Pedra, Papel, Tesoura? papel\n",
            "Essa não é uma jogada válida. Verifique a ortografia!\n",
            "Pedra, Papel, Tesoura? Papel\n",
            "Empate!\n",
            "Pedra, Papel, Tesoura? Tesoura\n",
            "Empate!\n",
            "Pedra, Papel, Tesoura? Tesoura\n",
            "Empate!\n",
            "Pedra, Papel, Tesoura? Papel\n",
            "Você venceu! Papel embrulha Pedra\n"
          ],
          "name": "stdout"
        },
        {
          "output_type": "error",
          "ename": "KeyboardInterrupt",
          "evalue": "ignored",
          "traceback": [
            "\u001b[0;31m---------------------------------------------------------------------------\u001b[0m",
            "\u001b[0;31mKeyboardInterrupt\u001b[0m                         Traceback (most recent call last)",
            "\u001b[0;32m/usr/local/lib/python3.7/dist-packages/ipykernel/kernelbase.py\u001b[0m in \u001b[0;36m_input_request\u001b[0;34m(self, prompt, ident, parent, password)\u001b[0m\n\u001b[1;32m    728\u001b[0m             \u001b[0;32mtry\u001b[0m\u001b[0;34m:\u001b[0m\u001b[0;34m\u001b[0m\u001b[0;34m\u001b[0m\u001b[0m\n\u001b[0;32m--> 729\u001b[0;31m                 \u001b[0mident\u001b[0m\u001b[0;34m,\u001b[0m \u001b[0mreply\u001b[0m \u001b[0;34m=\u001b[0m \u001b[0mself\u001b[0m\u001b[0;34m.\u001b[0m\u001b[0msession\u001b[0m\u001b[0;34m.\u001b[0m\u001b[0mrecv\u001b[0m\u001b[0;34m(\u001b[0m\u001b[0mself\u001b[0m\u001b[0;34m.\u001b[0m\u001b[0mstdin_socket\u001b[0m\u001b[0;34m,\u001b[0m \u001b[0;36m0\u001b[0m\u001b[0;34m)\u001b[0m\u001b[0;34m\u001b[0m\u001b[0;34m\u001b[0m\u001b[0m\n\u001b[0m\u001b[1;32m    730\u001b[0m             \u001b[0;32mexcept\u001b[0m \u001b[0mException\u001b[0m\u001b[0;34m:\u001b[0m\u001b[0;34m\u001b[0m\u001b[0;34m\u001b[0m\u001b[0m\n",
            "\u001b[0;32m/usr/local/lib/python3.7/dist-packages/jupyter_client/session.py\u001b[0m in \u001b[0;36mrecv\u001b[0;34m(self, socket, mode, content, copy)\u001b[0m\n\u001b[1;32m    802\u001b[0m         \u001b[0;32mtry\u001b[0m\u001b[0;34m:\u001b[0m\u001b[0;34m\u001b[0m\u001b[0;34m\u001b[0m\u001b[0m\n\u001b[0;32m--> 803\u001b[0;31m             \u001b[0mmsg_list\u001b[0m \u001b[0;34m=\u001b[0m \u001b[0msocket\u001b[0m\u001b[0;34m.\u001b[0m\u001b[0mrecv_multipart\u001b[0m\u001b[0;34m(\u001b[0m\u001b[0mmode\u001b[0m\u001b[0;34m,\u001b[0m \u001b[0mcopy\u001b[0m\u001b[0;34m=\u001b[0m\u001b[0mcopy\u001b[0m\u001b[0;34m)\u001b[0m\u001b[0;34m\u001b[0m\u001b[0;34m\u001b[0m\u001b[0m\n\u001b[0m\u001b[1;32m    804\u001b[0m         \u001b[0;32mexcept\u001b[0m \u001b[0mzmq\u001b[0m\u001b[0;34m.\u001b[0m\u001b[0mZMQError\u001b[0m \u001b[0;32mas\u001b[0m \u001b[0me\u001b[0m\u001b[0;34m:\u001b[0m\u001b[0;34m\u001b[0m\u001b[0;34m\u001b[0m\u001b[0m\n",
            "\u001b[0;32m/usr/local/lib/python3.7/dist-packages/zmq/sugar/socket.py\u001b[0m in \u001b[0;36mrecv_multipart\u001b[0;34m(self, flags, copy, track)\u001b[0m\n\u001b[1;32m    582\u001b[0m         \"\"\"\n\u001b[0;32m--> 583\u001b[0;31m         \u001b[0mparts\u001b[0m \u001b[0;34m=\u001b[0m \u001b[0;34m[\u001b[0m\u001b[0mself\u001b[0m\u001b[0;34m.\u001b[0m\u001b[0mrecv\u001b[0m\u001b[0;34m(\u001b[0m\u001b[0mflags\u001b[0m\u001b[0;34m,\u001b[0m \u001b[0mcopy\u001b[0m\u001b[0;34m=\u001b[0m\u001b[0mcopy\u001b[0m\u001b[0;34m,\u001b[0m \u001b[0mtrack\u001b[0m\u001b[0;34m=\u001b[0m\u001b[0mtrack\u001b[0m\u001b[0;34m)\u001b[0m\u001b[0;34m]\u001b[0m\u001b[0;34m\u001b[0m\u001b[0;34m\u001b[0m\u001b[0m\n\u001b[0m\u001b[1;32m    584\u001b[0m         \u001b[0;31m# have first part already, only loop while more to receive\u001b[0m\u001b[0;34m\u001b[0m\u001b[0;34m\u001b[0m\u001b[0;34m\u001b[0m\u001b[0m\n",
            "\u001b[0;32mzmq/backend/cython/socket.pyx\u001b[0m in \u001b[0;36mzmq.backend.cython.socket.Socket.recv\u001b[0;34m()\u001b[0m\n",
            "\u001b[0;32mzmq/backend/cython/socket.pyx\u001b[0m in \u001b[0;36mzmq.backend.cython.socket.Socket.recv\u001b[0;34m()\u001b[0m\n",
            "\u001b[0;32mzmq/backend/cython/socket.pyx\u001b[0m in \u001b[0;36mzmq.backend.cython.socket._recv_copy\u001b[0;34m()\u001b[0m\n",
            "\u001b[0;32m/usr/local/lib/python3.7/dist-packages/zmq/backend/cython/checkrc.pxd\u001b[0m in \u001b[0;36mzmq.backend.cython.checkrc._check_rc\u001b[0;34m()\u001b[0m\n",
            "\u001b[0;31mKeyboardInterrupt\u001b[0m: ",
            "\nDuring handling of the above exception, another exception occurred:\n",
            "\u001b[0;31mKeyboardInterrupt\u001b[0m                         Traceback (most recent call last)",
            "\u001b[0;32m<ipython-input-9-881621a3d447>\u001b[0m in \u001b[0;36m<module>\u001b[0;34m()\u001b[0m\n\u001b[1;32m     12\u001b[0m \u001b[0;34m\u001b[0m\u001b[0m\n\u001b[1;32m     13\u001b[0m \u001b[0;32mwhile\u001b[0m \u001b[0mjogador\u001b[0m \u001b[0;34m==\u001b[0m \u001b[0;32mFalse\u001b[0m\u001b[0;34m:\u001b[0m\u001b[0;34m\u001b[0m\u001b[0;34m\u001b[0m\u001b[0m\n\u001b[0;32m---> 14\u001b[0;31m     \u001b[0mjogador\u001b[0m \u001b[0;34m=\u001b[0m \u001b[0minput\u001b[0m\u001b[0;34m(\u001b[0m\u001b[0;34m'Pedra, Papel, Tesoura? '\u001b[0m\u001b[0;34m)\u001b[0m\u001b[0;34m\u001b[0m\u001b[0;34m\u001b[0m\u001b[0m\n\u001b[0m\u001b[1;32m     15\u001b[0m     \u001b[0;32mif\u001b[0m \u001b[0mjogador\u001b[0m \u001b[0;34m==\u001b[0m \u001b[0mcomputador\u001b[0m\u001b[0;34m:\u001b[0m\u001b[0;34m\u001b[0m\u001b[0;34m\u001b[0m\u001b[0m\n\u001b[1;32m     16\u001b[0m         \u001b[0mprint\u001b[0m\u001b[0;34m(\u001b[0m\u001b[0;34m'Empate!'\u001b[0m\u001b[0;34m)\u001b[0m\u001b[0;34m\u001b[0m\u001b[0;34m\u001b[0m\u001b[0m\n",
            "\u001b[0;32m/usr/local/lib/python3.7/dist-packages/ipykernel/kernelbase.py\u001b[0m in \u001b[0;36mraw_input\u001b[0;34m(self, prompt)\u001b[0m\n\u001b[1;32m    702\u001b[0m             \u001b[0mself\u001b[0m\u001b[0;34m.\u001b[0m\u001b[0m_parent_ident\u001b[0m\u001b[0;34m,\u001b[0m\u001b[0;34m\u001b[0m\u001b[0;34m\u001b[0m\u001b[0m\n\u001b[1;32m    703\u001b[0m             \u001b[0mself\u001b[0m\u001b[0;34m.\u001b[0m\u001b[0m_parent_header\u001b[0m\u001b[0;34m,\u001b[0m\u001b[0;34m\u001b[0m\u001b[0;34m\u001b[0m\u001b[0m\n\u001b[0;32m--> 704\u001b[0;31m             \u001b[0mpassword\u001b[0m\u001b[0;34m=\u001b[0m\u001b[0;32mFalse\u001b[0m\u001b[0;34m,\u001b[0m\u001b[0;34m\u001b[0m\u001b[0;34m\u001b[0m\u001b[0m\n\u001b[0m\u001b[1;32m    705\u001b[0m         )\n\u001b[1;32m    706\u001b[0m \u001b[0;34m\u001b[0m\u001b[0m\n",
            "\u001b[0;32m/usr/local/lib/python3.7/dist-packages/ipykernel/kernelbase.py\u001b[0m in \u001b[0;36m_input_request\u001b[0;34m(self, prompt, ident, parent, password)\u001b[0m\n\u001b[1;32m    732\u001b[0m             \u001b[0;32mexcept\u001b[0m \u001b[0mKeyboardInterrupt\u001b[0m\u001b[0;34m:\u001b[0m\u001b[0;34m\u001b[0m\u001b[0;34m\u001b[0m\u001b[0m\n\u001b[1;32m    733\u001b[0m                 \u001b[0;31m# re-raise KeyboardInterrupt, to truncate traceback\u001b[0m\u001b[0;34m\u001b[0m\u001b[0;34m\u001b[0m\u001b[0;34m\u001b[0m\u001b[0m\n\u001b[0;32m--> 734\u001b[0;31m                 \u001b[0;32mraise\u001b[0m \u001b[0mKeyboardInterrupt\u001b[0m\u001b[0;34m\u001b[0m\u001b[0;34m\u001b[0m\u001b[0m\n\u001b[0m\u001b[1;32m    735\u001b[0m             \u001b[0;32melse\u001b[0m\u001b[0;34m:\u001b[0m\u001b[0;34m\u001b[0m\u001b[0;34m\u001b[0m\u001b[0m\n\u001b[1;32m    736\u001b[0m                 \u001b[0;32mbreak\u001b[0m\u001b[0;34m\u001b[0m\u001b[0;34m\u001b[0m\u001b[0m\n",
            "\u001b[0;31mKeyboardInterrupt\u001b[0m: "
          ]
        }
      ]
    },
    {
      "cell_type": "markdown",
      "metadata": {
        "id": "Vaa8B7zZb3wo"
      },
      "source": [
        "## Exemplo 4 - Criando uma senha em Python"
      ]
    },
    {
      "cell_type": "code",
      "metadata": {
        "id": "Od2lqnb1b7VK",
        "colab": {
          "base_uri": "https://localhost:8080/"
        },
        "outputId": "0c474ff0-7970-439b-b1b9-c7e80cde05f7"
      },
      "source": [
        "import random\n",
        "\n",
        "# Uma função que embaralha todos os caracteres de uma string\n",
        "def embaralha(string):\n",
        "  tempList = list(string)\n",
        "  random.shuffle(tempList)\n",
        "  return ''.join(tempList)\n",
        "\n",
        "# Gerar letras aleatórias\n",
        "letra_1=chr(random.randint(65,90)) # Gere uma letra maiúscula aleatória (com base no código ASCII)\n",
        "letra_2=chr(random.randint(65,90))\n",
        "letra_3=chr(random.randint(65,90))\n",
        "\n",
        " # Gere uma letra maiúscula aleatória (com base no código ASCII)\n",
        "# Continue aqui a geração de letras. Copie e cole a linha acima mudando o nome da variável\n",
        "\n",
        "\n",
        "# Gere senha usando todos os caracteres, em ordem aleatória\n",
        "password = letra_1 + letra_2 + letra_3    # Concatene outras letras\n",
        "password = embaralha(password)\n",
        "\n",
        "# Saída\n",
        "print(password)"
      ],
      "execution_count": null,
      "outputs": [
        {
          "output_type": "stream",
          "text": [
            "DLK\n"
          ],
          "name": "stdout"
        }
      ]
    },
    {
      "cell_type": "markdown",
      "metadata": {
        "id": "Dz91GU4dcvGn"
      },
      "source": [
        "## Exemplo 5 - Jogando os dados"
      ]
    },
    {
      "cell_type": "code",
      "metadata": {
        "id": "XZ4Hmkqfcuuu",
        "colab": {
          "base_uri": "https://localhost:8080/"
        },
        "outputId": "e79edbd6-cb40-4fc9-db6f-3018f0de3570"
      },
      "source": [
        "import random\n",
        "min = 1 # Valor mínimo que um dado pode mostrar\n",
        "max = 6 # Valor máximo que um dado pode mostrar\n",
        "\n",
        "jogar_novamente = 'sim'\n",
        "\n",
        "while jogar_novamente == 'sim' or jogar_novamente == 's':\n",
        "    print ('Jogando os dados...')\n",
        "    print ('Os valores são....')\n",
        "    print (random.randint(min, max))\n",
        "    print (random.randint(min, max))\n",
        "\n",
        "    jogar_novamente = input('Jogar os dados mais uma vez? ')\n"
      ],
      "execution_count": null,
      "outputs": [
        {
          "output_type": "stream",
          "text": [
            "Jogando os dados...\n",
            "Os valores são....\n",
            "4\n",
            "6\n",
            "Jogar os dados mais uma vez? s\n",
            "Jogando os dados...\n",
            "Os valores são....\n",
            "4\n",
            "4\n",
            "Jogar os dados mais uma vez? sim\n",
            "Jogando os dados...\n",
            "Os valores são....\n",
            "5\n",
            "6\n",
            "Jogar os dados mais uma vez? não\n"
          ],
          "name": "stdout"
        }
      ]
    },
    {
      "cell_type": "markdown",
      "metadata": {
        "id": "DMxODKFza7FC"
      },
      "source": [
        "## Exemplo 6 - Calculadora"
      ]
    },
    {
      "cell_type": "code",
      "metadata": {
        "id": "wiDK4jhAtGWV",
        "colab": {
          "base_uri": "https://localhost:8080/"
        },
        "outputId": "9c8022a1-4a4f-4b0a-d2c5-783bbef9cd68"
      },
      "source": [
        "def adicao(a, b):\n",
        "    sum = a + b\n",
        "    return sum\n",
        "\n",
        "def subtracao(a, b):\n",
        "    diff = a - b\n",
        "    return diff\n",
        "\n",
        "def multiplicacao(a, b):\n",
        "    multi = a*b\n",
        "    return multi\n",
        "\n",
        "def divisao(a, b):\n",
        "    divi = a/b\n",
        "    return divi\n",
        "\n",
        "a = int(input('Digite o primeiro número: '))\n",
        "b = int(input('Digite o segundo número: '))\n",
        "\n",
        "print() # Coloquei esse print para dar um espaço em branco\n",
        "print() # Coloquei esse print para dar um espaço em branco\n",
        "\n",
        "print('A soma entre os números é: ', adicao(a,b))\n",
        "print('A diferença entre os número é: ', subtracao(a,b))\n",
        "print('A multiplicação entre os números é: ', multiplicacao(a,b))\n",
        "print('A divisão entre os números é: ', divisao(a,b))"
      ],
      "execution_count": null,
      "outputs": [
        {
          "output_type": "stream",
          "text": [
            "Digite o primeiro número: 4\n",
            "Digite o segundo número: 5\n",
            "\n",
            "\n",
            "A soma entre os números é:  9\n",
            "A diferença entre os número é:  -1\n",
            "A multiplicação entre os números é:  20\n",
            "A divisão entre os números é:  0.8\n"
          ],
          "name": "stdout"
        }
      ]
    },
    {
      "cell_type": "markdown",
      "metadata": {
        "id": "jYFvYi6nLkdY"
      },
      "source": [
        "# **Parte 3**"
      ]
    },
    {
      "cell_type": "markdown",
      "metadata": {
        "id": "_FS_2CHLLrIS"
      },
      "source": [
        "### Enviar e-mail"
      ]
    },
    {
      "cell_type": "code",
      "metadata": {
        "id": "zGMcSOVuLqVj"
      },
      "source": [
        "import smtplib, ssl\n",
        "\n",
        "def send_email(message):\n",
        "    port = 465  # SSL\n",
        "    smtp_server = 'smtp.gmail.com'\n",
        "    sender_email = 'remetente@gmail.com'\n",
        "    receiver_email = 'destinatario@gmail.com'\n",
        "    password = 'sua senha'\n",
        "    \n",
        "    context = ssl.create_default_context()\n",
        "    with smtplib.SMTP_SSL(smtp_server, port, context=context) as server:\n",
        "        try:\n",
        "            server.login(sender_email, password)\n",
        "            res = server.sendmail(sender_email, receiver_email, message)\n",
        "            print('e-mail enviado!')\n",
        "        except:\n",
        "            print(\"não foi possivel fazer o login no e-mail\")"
      ],
      "execution_count": null,
      "outputs": []
    },
    {
      "cell_type": "markdown",
      "metadata": {
        "id": "Bzfm7HieMQB5"
      },
      "source": [
        "### Enviar twitter"
      ]
    },
    {
      "cell_type": "code",
      "metadata": {
        "id": "2VEdj5q_MXZc"
      },
      "source": [
        "from os import environ\n",
        "from datetime import datetime, timedelta\n",
        "\n",
        "import tweepy\n",
        "import gspread\n",
        "\n",
        "from dotenv import load_dotenv\n",
        "load_dotenv()\n",
        "\n",
        "# \n",
        "gc = gspread.service_account(filename='googledrive_credentials.json')\n",
        "sh = gc.open_by_key(\"your_sheet_key\")\n",
        "worksheet = sh.sheet1\n",
        "\n",
        "CONSUMER_KEY = environ['CONSUMER_KEY']\n",
        "CONSUMER_SECRET = environ['CONSUMER_SECRET']\n",
        "ACCESS_TOKEN = environ['ACCESS_TOKEN']\n",
        "ACCESS_SECRET = environ['ACCESS_SECRET']\n",
        "\n",
        "auth = tweepy.OAuthHandler(CONSUMER_KEY, CONSUMER_SECRET)\n",
        "auth.set_access_token(ACCESS_TOKEN, ACCESS_SECRET)\n",
        "\n",
        "tweet_api = tweepy.API(auth)\n",
        "\n",
        "def get_now_time_normalized():\n",
        "    return datetime.now()\n",
        "    # modify if needed, e.g.:\n",
        "    # return datetime.utcnow() + timedelta(hours=1)\n",
        "\n",
        "def check_and_update_tweets():\n",
        "    tweets = worksheet.get_all_records()\n",
        "    for row_idx, tweet in enumerate(tweets, start=2):\n",
        "        msg = tweet['message']\n",
        "        time_str = tweet['time']\n",
        "        done = tweet['done']\n",
        "                \n",
        "        post_time = datetime.strptime(time_str, '%Y-%m-%d %H:%M:%S')\n",
        "        if not done:\n",
        "            now_time = get_now_time_normalized()\n",
        "            if post_time < now_time:\n",
        "                try:\n",
        "                    tweet_api.update_status(msg)\n",
        "                    worksheet.update_cell(row_idx, 3, 1)  # row, col, value\n",
        "                except Exception as e:\n",
        "                    print(f'exception during tweet! {e}')\n",
        "\n",
        "\n",
        "if __name__ == '__main__':\n",
        "    check_and_update_tweets()"
      ],
      "execution_count": null,
      "outputs": []
    },
    {
      "cell_type": "markdown",
      "metadata": {
        "id": "dkTNcIS6MoTL"
      },
      "source": [
        "### Rastreador de Preços"
      ]
    },
    {
      "cell_type": "code",
      "metadata": {
        "id": "5gzi9vA_Ms2D"
      },
      "source": [
        "import requests\n",
        "from bs4 import BeautifulSoup\n",
        "import unicodedata\n",
        "\n",
        "from send_email import send_email\n",
        "\n",
        "\n",
        "HEADERS = ({'User-Agent':\n",
        "            'Mozilla/5.0 (Windows NT 6.1) AppleWebKit/537.36 (KHTML, like Gecko) Chrome/41.0.2228.0 Safari/537.36',\n",
        "            'Accept-Language': 'pt-BR, pt;q=0.5'})\n",
        "\n",
        "\n",
        "def get_product_info(url):\n",
        "    page = requests.get(url, headers=HEADERS)\n",
        "    soup = BeautifulSoup(page.content, features=\"lxml\")\n",
        "\n",
        "    try:\n",
        "        title = soup.find(id='productTitle').get_text().strip()\n",
        "        price_str = soup.find(id='priceblock_ourprice').get_text()\n",
        "    except:\n",
        "        return None, None, None\n",
        "    \n",
        "    try:\n",
        "        # #soup.select('#availability .a-color-price')[0].get_text().strip()\n",
        "        soup.select('#availability .a-color-success')[0].get_text().strip()\n",
        "        available = True\n",
        "    except:\n",
        "        available = False\n",
        "\n",
        "    try:\n",
        "        price = unicodedata.normalize(\"NFKD\", price_str)\n",
        "        price = price.replace(',', '.').replace('$', '')\n",
        "        price = float(price)\n",
        "    except:\n",
        "        return None, None, None\n",
        "    \n",
        "    return title, price, available\n",
        "\n",
        "if __name__ == '__main__':\n",
        "    url = 'https://www.amazon.com.br/Fundamentos-Python-Iniciantes-programa%C3%A7%C3%A3o-computa%C3%A7%C3%A3o-ebook/dp/B093YCXQ6J/ref=sr_1_1?__mk_pt_BR=%C3%85M%C3%85%C5%BD%C3%95%C3%91&dchild=1&keywords=Fundamentos+em+Python+Erick&qid=1628852922&sr=8-1'\n",
        "    products = [(url, 700)]\n",
        "    \n",
        "    products_below_limit = []\n",
        "    for product_url, limit in products:\n",
        "        title, price, available = get_product_info(product_url)\n",
        "        if title is not None and price < limit and available:\n",
        "            products_below_limit.append((url, title, price))\n",
        "\n",
        "\n",
        "    if products_below_limit:\n",
        "        message = \"Assunto: Preço abaixo!\\n\\n\"\n",
        "        message += \"Seus produtos rastreados estão abaixo do limite delimitado!\\n\\n\"\n",
        "        \n",
        "        for url, title, price in products_below_limit:\n",
        "            message += f\"{title}\\n\"\n",
        "            message += f\"Preço: {price}\\n\"\n",
        "            message += f\"{url}\\n\\n\"\n",
        "        \n",
        "        send_email(message)"
      ],
      "execution_count": null,
      "outputs": []
    },
    {
      "cell_type": "markdown",
      "metadata": {
        "id": "dWfsuK5TNzc4"
      },
      "source": [
        "### Imagens Nasa Papel de parede"
      ]
    },
    {
      "cell_type": "code",
      "metadata": {
        "id": "HSkV5tTHN3nb"
      },
      "source": [
        "import requests\n",
        "import platform\n",
        "import pwd\n",
        "import os\n",
        "\n",
        "url = \"https://api.nasa.gov/planetary/apod?api_key=DEMO_KEY\"\n",
        "FILENAME = 'nasa_pic.png'\n",
        "\n",
        "\n",
        "def get_filename():\n",
        "    username = pwd.getpwuid(os.getuid()).pw_name\n",
        "    if platform.system()==\"Linux\":\n",
        "        directory = \"/home/\" + username + \"/Downloads/\"\n",
        "    elif platform.system()==\"Darwin\":\n",
        "        directory = \"/Users/\" + username + \"/Downloads/\"\n",
        "        \n",
        "    return os.path.join(directory, FILENAME)\n",
        "\n",
        "  \n",
        "def download_pic_of_day():\n",
        "    r = requests.get(url)\n",
        "\n",
        "    if r.status_code != 200:\n",
        "        print('error')\n",
        "        return\n",
        "    \n",
        "    picture_url = r.json()['url']\n",
        "    if \"jpg\" not in picture_url:\n",
        "        print(\"Sem imagem para hoje, deve ser um vídeo\")\n",
        "    else:\n",
        "        pic = requests.get(picture_url , allow_redirects=True)\n",
        "        filename = get_filename()\n",
        "        \n",
        "        open(filename, 'wb').write(pic.content)\n",
        "        \n",
        "        print(f\"imagem do dia salva em {filename}!\")\n",
        "\n",
        "       \n",
        "if __name__ == '__main__':\n",
        "    download_pic_of_day()\n",
        "    \n",
        "    filename = get_filename()\n",
        "    \n",
        "    # set background\n",
        "    if platform.system()==\"Linux\":\n",
        "        cmd = \"gsettings set org.gnome.desktop.background picture-uri file:\" + filename\n",
        "    elif platform.system()==\"Darwin\":\n",
        "        cmd = \"osascript -e 'tell application \\\"Finder\\\" to set desktop picture to POSIX file \\\"\" + filename +\"\\\"'\"\n",
        "        # use absolute path to the image, and not a path that begins with a user path (~/Downloads/image.jpg)!\n",
        "\n",
        "    os.system(cmd)  "
      ],
      "execution_count": null,
      "outputs": []
    }
  ]
}