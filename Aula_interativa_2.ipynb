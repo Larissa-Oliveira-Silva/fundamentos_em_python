{
  "nbformat": 4,
  "nbformat_minor": 0,
  "metadata": {
    "colab": {
      "name": "Aula_interativa_2.ipynb",
      "provenance": [],
      "collapsed_sections": []
    },
    "kernelspec": {
      "name": "python3",
      "display_name": "Python 3"
    }
  },
  "cells": [
    {
      "cell_type": "markdown",
      "metadata": {
        "id": "_0nEneeA1KcD"
      },
      "source": [
        "# **Aula Interativa 2**"
      ]
    },
    {
      "cell_type": "markdown",
      "metadata": {
        "id": "ZehlCpjS05Iu"
      },
      "source": [
        "Data: 04/06/2021\n",
        "\n",
        "Professor: Erick Faria  \n",
        "website: www.erickfaria.com\n",
        "\n",
        "\n",
        "![frame.png](data:image/png;base64,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)"
      ]
    },
    {
      "cell_type": "markdown",
      "metadata": {
        "id": "_-YJEQsyKg7O"
      },
      "source": [
        "## Exemplo 1 - Lambda - Alguns exemplos simples"
      ]
    },
    {
      "cell_type": "code",
      "metadata": {
        "colab": {
          "base_uri": "https://localhost:8080/"
        },
        "id": "nqs8h8MVKfgp",
        "outputId": "1b4c1a3e-e302-4547-b7f2-5d28aed6b39e"
      },
      "source": [
        "x = lambda y : y + 20\n",
        "\n",
        "print(x(5)) "
      ],
      "execution_count": null,
      "outputs": [
        {
          "output_type": "stream",
          "text": [
            "25\n"
          ],
          "name": "stdout"
        }
      ]
    },
    {
      "cell_type": "code",
      "metadata": {
        "colab": {
          "base_uri": "https://localhost:8080/"
        },
        "id": "Ho2JAriLKlN7",
        "outputId": "0fb102b0-70b9-4f86-a83f-38d4b8bf696c"
      },
      "source": [
        "x = lambda valor_1, valor_2 : valor_1 * valor_2\n",
        "\n",
        "print(x(10, 3))"
      ],
      "execution_count": null,
      "outputs": [
        {
          "output_type": "stream",
          "text": [
            "30\n"
          ],
          "name": "stdout"
        }
      ]
    },
    {
      "cell_type": "code",
      "metadata": {
        "colab": {
          "base_uri": "https://localhost:8080/"
        },
        "id": "ARngbQk9Kt0g",
        "outputId": "8c823fc9-6922-4a49-ac5c-dd59b860febd"
      },
      "source": [
        "x = lambda x, y, z : x + y + z\n",
        "\n",
        "print(x(10, 10, 30)) "
      ],
      "execution_count": null,
      "outputs": [
        {
          "output_type": "stream",
          "text": [
            "50\n"
          ],
          "name": "stdout"
        }
      ]
    },
    {
      "cell_type": "code",
      "metadata": {
        "colab": {
          "base_uri": "https://localhost:8080/"
        },
        "id": "m0BKOf8cLYUp",
        "outputId": "c2a298de-4b6c-4aaf-da7b-9b83950097fd"
      },
      "source": [
        "def nome_funcao(n):\n",
        "  return lambda a : a * n\n",
        "\n",
        "multiplicador = nome_funcao(6) # Aqui eu digito o valor pelo qual quero multiplicar\n",
        "\n",
        "print(multiplicador(10))"
      ],
      "execution_count": null,
      "outputs": [
        {
          "output_type": "stream",
          "text": [
            "60\n"
          ],
          "name": "stdout"
        }
      ]
    },
    {
      "cell_type": "code",
      "metadata": {
        "colab": {
          "base_uri": "https://localhost:8080/"
        },
        "id": "_y34ACYsLstF",
        "outputId": "d94b74c8-e987-4f8c-ea29-625e91a31ae2"
      },
      "source": [
        "lista = [1, 5, 4, 6, 8, 11, 3, 12]\n",
        "\n",
        "nova_lista = list(filter(lambda x: (x%2 == 0), lista))\n",
        "\n",
        "print(nova_lista)"
      ],
      "execution_count": null,
      "outputs": [
        {
          "output_type": "stream",
          "text": [
            "[4, 6, 8, 12]\n"
          ],
          "name": "stdout"
        }
      ]
    },
    {
      "cell_type": "markdown",
      "metadata": {
        "id": "E-4d9O3ulR2H"
      },
      "source": [
        "## Exemplo 2 - Adivinhe o número"
      ]
    },
    {
      "cell_type": "code",
      "metadata": {
        "id": "FcnFgvDzfm4q",
        "colab": {
          "base_uri": "https://localhost:8080/"
        },
        "outputId": "7cf74346-35f2-4760-f87c-cef6d26d209e"
      },
      "source": [
        "import random\n",
        "\n",
        "n = random.randint(1, 99)\n",
        "\n",
        "adivinhe = int(input('Tente adivinhar um número entre 1 e 99: '))\n",
        "\n",
        "while n != 'adivinhe': #Lê-se: 'Enquanto o n for diferente da variável adivinhe, faça...'\n",
        "    print\n",
        "    if adivinhe < n:\n",
        "        print ('O número é maior que este')\n",
        "        adivinhe = int(input('Tente outra vez: '))\n",
        "    elif adivinhe > n:\n",
        "        print ('O número é menor que este')\n",
        "        adivinhe = int(input('Tente outra vez: '))\n",
        "    else:\n",
        "        print ('Você acertou!')\n",
        "        break # O comando break serve para 'parar' o loop\n",
        "    print\n"
      ],
      "execution_count": null,
      "outputs": [
        {
          "output_type": "stream",
          "text": [
            "Tente adivinhar um número entre 1 e 99: 50\n",
            "O número é menor que este\n",
            "Tente outra vez: 40\n",
            "O número é maior que este\n",
            "Tente outra vez: 45\n",
            "O número é maior que este\n",
            "Tente outra vez: 48\n",
            "O número é menor que este\n",
            "Tente outra vez: 47\n",
            "Você acertou!\n"
          ],
          "name": "stdout"
        }
      ]
    },
    {
      "cell_type": "markdown",
      "metadata": {
        "id": "32cMeApPoYvB"
      },
      "source": [
        "## Exemplo 3 - Jogo Pedra, Papel, Tesoura"
      ]
    },
    {
      "cell_type": "code",
      "metadata": {
        "id": "8a04mjGRbNBA",
        "colab": {
          "base_uri": "https://localhost:8080/",
          "height": 677
        },
        "outputId": "36066a83-4111-43ea-d938-7465d672e24a"
      },
      "source": [
        "# Importa a função randint que retorna um valor aleatório\n",
        "from random import randint\n",
        "\n",
        "# Cria uma lista com as Opções\n",
        "t = ['Pedra', 'Papel', 'Tesoura']\n",
        "\n",
        "# Coloca o computador para jogar dentro das opções \n",
        "computador = t[randint(0,2)] \n",
        "\n",
        "# Coloca o jogador como False\n",
        "jogador = False\n",
        "\n",
        "while jogador == False:\n",
        "    jogador = input('Pedra, Papel, Tesoura? ')\n",
        "    if jogador == computador:\n",
        "        print('Empate!')\n",
        "    elif jogador == 'Pedra':\n",
        "        if computador == 'Papel':\n",
        "            print('Você Perdeu', computador, 'embrulha', jogador)\n",
        "        else:\n",
        "            print('Você venceu!', jogador, 'esmaga', computador)\n",
        "    elif jogador == 'Papel':\n",
        "        if computador == 'Tesoura':\n",
        "            print('Você Perdeu', computador, 'corta', jogador)\n",
        "        else:\n",
        "            print('Você venceu!', jogador, 'embrulha', computador)\n",
        "    elif jogador == 'Tesoura':\n",
        "        if computador == 'Pedra':\n",
        "            print('Você Perdeu', computador, 'esmaga', jogador)\n",
        "        else:\n",
        "            print('Você venceu!', jogador, 'corta', computador)\n",
        "    else:\n",
        "        print('Essa não é uma jogada válida. Verifique a ortografia!')\n",
        "    \n",
        "    # Para continuar o jogo\n",
        "    jogador = False\n",
        "    computador = t[randint(0,2)]"
      ],
      "execution_count": null,
      "outputs": [
        {
          "output_type": "stream",
          "text": [
            "Pedra, Papel, Tesoura? Papel\n",
            "Você Perdeu Tesoura corta Papel\n",
            "Pedra, Papel, Tesoura? Papel\n",
            "Empate!\n",
            "Pedra, Papel, Tesoura? Papel\n",
            "Empate!\n"
          ],
          "name": "stdout"
        },
        {
          "output_type": "error",
          "ename": "KeyboardInterrupt",
          "evalue": "ignored",
          "traceback": [
            "\u001b[0;31m---------------------------------------------------------------------------\u001b[0m",
            "\u001b[0;31mKeyboardInterrupt\u001b[0m                         Traceback (most recent call last)",
            "\u001b[0;32m/usr/local/lib/python3.7/dist-packages/ipykernel/kernelbase.py\u001b[0m in \u001b[0;36m_input_request\u001b[0;34m(self, prompt, ident, parent, password)\u001b[0m\n\u001b[1;32m    728\u001b[0m             \u001b[0;32mtry\u001b[0m\u001b[0;34m:\u001b[0m\u001b[0;34m\u001b[0m\u001b[0;34m\u001b[0m\u001b[0m\n\u001b[0;32m--> 729\u001b[0;31m                 \u001b[0mident\u001b[0m\u001b[0;34m,\u001b[0m \u001b[0mreply\u001b[0m \u001b[0;34m=\u001b[0m \u001b[0mself\u001b[0m\u001b[0;34m.\u001b[0m\u001b[0msession\u001b[0m\u001b[0;34m.\u001b[0m\u001b[0mrecv\u001b[0m\u001b[0;34m(\u001b[0m\u001b[0mself\u001b[0m\u001b[0;34m.\u001b[0m\u001b[0mstdin_socket\u001b[0m\u001b[0;34m,\u001b[0m \u001b[0;36m0\u001b[0m\u001b[0;34m)\u001b[0m\u001b[0;34m\u001b[0m\u001b[0;34m\u001b[0m\u001b[0m\n\u001b[0m\u001b[1;32m    730\u001b[0m             \u001b[0;32mexcept\u001b[0m \u001b[0mException\u001b[0m\u001b[0;34m:\u001b[0m\u001b[0;34m\u001b[0m\u001b[0;34m\u001b[0m\u001b[0m\n",
            "\u001b[0;32m/usr/local/lib/python3.7/dist-packages/jupyter_client/session.py\u001b[0m in \u001b[0;36mrecv\u001b[0;34m(self, socket, mode, content, copy)\u001b[0m\n\u001b[1;32m    802\u001b[0m         \u001b[0;32mtry\u001b[0m\u001b[0;34m:\u001b[0m\u001b[0;34m\u001b[0m\u001b[0;34m\u001b[0m\u001b[0m\n\u001b[0;32m--> 803\u001b[0;31m             \u001b[0mmsg_list\u001b[0m \u001b[0;34m=\u001b[0m \u001b[0msocket\u001b[0m\u001b[0;34m.\u001b[0m\u001b[0mrecv_multipart\u001b[0m\u001b[0;34m(\u001b[0m\u001b[0mmode\u001b[0m\u001b[0;34m,\u001b[0m \u001b[0mcopy\u001b[0m\u001b[0;34m=\u001b[0m\u001b[0mcopy\u001b[0m\u001b[0;34m)\u001b[0m\u001b[0;34m\u001b[0m\u001b[0;34m\u001b[0m\u001b[0m\n\u001b[0m\u001b[1;32m    804\u001b[0m         \u001b[0;32mexcept\u001b[0m \u001b[0mzmq\u001b[0m\u001b[0;34m.\u001b[0m\u001b[0mZMQError\u001b[0m \u001b[0;32mas\u001b[0m \u001b[0me\u001b[0m\u001b[0;34m:\u001b[0m\u001b[0;34m\u001b[0m\u001b[0;34m\u001b[0m\u001b[0m\n",
            "\u001b[0;32m/usr/local/lib/python3.7/dist-packages/zmq/sugar/socket.py\u001b[0m in \u001b[0;36mrecv_multipart\u001b[0;34m(self, flags, copy, track)\u001b[0m\n\u001b[1;32m    582\u001b[0m         \"\"\"\n\u001b[0;32m--> 583\u001b[0;31m         \u001b[0mparts\u001b[0m \u001b[0;34m=\u001b[0m \u001b[0;34m[\u001b[0m\u001b[0mself\u001b[0m\u001b[0;34m.\u001b[0m\u001b[0mrecv\u001b[0m\u001b[0;34m(\u001b[0m\u001b[0mflags\u001b[0m\u001b[0;34m,\u001b[0m \u001b[0mcopy\u001b[0m\u001b[0;34m=\u001b[0m\u001b[0mcopy\u001b[0m\u001b[0;34m,\u001b[0m \u001b[0mtrack\u001b[0m\u001b[0;34m=\u001b[0m\u001b[0mtrack\u001b[0m\u001b[0;34m)\u001b[0m\u001b[0;34m]\u001b[0m\u001b[0;34m\u001b[0m\u001b[0;34m\u001b[0m\u001b[0m\n\u001b[0m\u001b[1;32m    584\u001b[0m         \u001b[0;31m# have first part already, only loop while more to receive\u001b[0m\u001b[0;34m\u001b[0m\u001b[0;34m\u001b[0m\u001b[0;34m\u001b[0m\u001b[0m\n",
            "\u001b[0;32mzmq/backend/cython/socket.pyx\u001b[0m in \u001b[0;36mzmq.backend.cython.socket.Socket.recv\u001b[0;34m()\u001b[0m\n",
            "\u001b[0;32mzmq/backend/cython/socket.pyx\u001b[0m in \u001b[0;36mzmq.backend.cython.socket.Socket.recv\u001b[0;34m()\u001b[0m\n",
            "\u001b[0;32mzmq/backend/cython/socket.pyx\u001b[0m in \u001b[0;36mzmq.backend.cython.socket._recv_copy\u001b[0;34m()\u001b[0m\n",
            "\u001b[0;32m/usr/local/lib/python3.7/dist-packages/zmq/backend/cython/checkrc.pxd\u001b[0m in \u001b[0;36mzmq.backend.cython.checkrc._check_rc\u001b[0;34m()\u001b[0m\n",
            "\u001b[0;31mKeyboardInterrupt\u001b[0m: ",
            "\nDuring handling of the above exception, another exception occurred:\n",
            "\u001b[0;31mKeyboardInterrupt\u001b[0m                         Traceback (most recent call last)",
            "\u001b[0;32m<ipython-input-21-881621a3d447>\u001b[0m in \u001b[0;36m<module>\u001b[0;34m()\u001b[0m\n\u001b[1;32m     12\u001b[0m \u001b[0;34m\u001b[0m\u001b[0m\n\u001b[1;32m     13\u001b[0m \u001b[0;32mwhile\u001b[0m \u001b[0mjogador\u001b[0m \u001b[0;34m==\u001b[0m \u001b[0;32mFalse\u001b[0m\u001b[0;34m:\u001b[0m\u001b[0;34m\u001b[0m\u001b[0;34m\u001b[0m\u001b[0m\n\u001b[0;32m---> 14\u001b[0;31m     \u001b[0mjogador\u001b[0m \u001b[0;34m=\u001b[0m \u001b[0minput\u001b[0m\u001b[0;34m(\u001b[0m\u001b[0;34m'Pedra, Papel, Tesoura? '\u001b[0m\u001b[0;34m)\u001b[0m\u001b[0;34m\u001b[0m\u001b[0;34m\u001b[0m\u001b[0m\n\u001b[0m\u001b[1;32m     15\u001b[0m     \u001b[0;32mif\u001b[0m \u001b[0mjogador\u001b[0m \u001b[0;34m==\u001b[0m \u001b[0mcomputador\u001b[0m\u001b[0;34m:\u001b[0m\u001b[0;34m\u001b[0m\u001b[0;34m\u001b[0m\u001b[0m\n\u001b[1;32m     16\u001b[0m         \u001b[0mprint\u001b[0m\u001b[0;34m(\u001b[0m\u001b[0;34m'Empate!'\u001b[0m\u001b[0;34m)\u001b[0m\u001b[0;34m\u001b[0m\u001b[0;34m\u001b[0m\u001b[0m\n",
            "\u001b[0;32m/usr/local/lib/python3.7/dist-packages/ipykernel/kernelbase.py\u001b[0m in \u001b[0;36mraw_input\u001b[0;34m(self, prompt)\u001b[0m\n\u001b[1;32m    702\u001b[0m             \u001b[0mself\u001b[0m\u001b[0;34m.\u001b[0m\u001b[0m_parent_ident\u001b[0m\u001b[0;34m,\u001b[0m\u001b[0;34m\u001b[0m\u001b[0;34m\u001b[0m\u001b[0m\n\u001b[1;32m    703\u001b[0m             \u001b[0mself\u001b[0m\u001b[0;34m.\u001b[0m\u001b[0m_parent_header\u001b[0m\u001b[0;34m,\u001b[0m\u001b[0;34m\u001b[0m\u001b[0;34m\u001b[0m\u001b[0m\n\u001b[0;32m--> 704\u001b[0;31m             \u001b[0mpassword\u001b[0m\u001b[0;34m=\u001b[0m\u001b[0;32mFalse\u001b[0m\u001b[0;34m,\u001b[0m\u001b[0;34m\u001b[0m\u001b[0;34m\u001b[0m\u001b[0m\n\u001b[0m\u001b[1;32m    705\u001b[0m         )\n\u001b[1;32m    706\u001b[0m \u001b[0;34m\u001b[0m\u001b[0m\n",
            "\u001b[0;32m/usr/local/lib/python3.7/dist-packages/ipykernel/kernelbase.py\u001b[0m in \u001b[0;36m_input_request\u001b[0;34m(self, prompt, ident, parent, password)\u001b[0m\n\u001b[1;32m    732\u001b[0m             \u001b[0;32mexcept\u001b[0m \u001b[0mKeyboardInterrupt\u001b[0m\u001b[0;34m:\u001b[0m\u001b[0;34m\u001b[0m\u001b[0;34m\u001b[0m\u001b[0m\n\u001b[1;32m    733\u001b[0m                 \u001b[0;31m# re-raise KeyboardInterrupt, to truncate traceback\u001b[0m\u001b[0;34m\u001b[0m\u001b[0;34m\u001b[0m\u001b[0;34m\u001b[0m\u001b[0m\n\u001b[0;32m--> 734\u001b[0;31m                 \u001b[0;32mraise\u001b[0m \u001b[0mKeyboardInterrupt\u001b[0m\u001b[0;34m\u001b[0m\u001b[0;34m\u001b[0m\u001b[0m\n\u001b[0m\u001b[1;32m    735\u001b[0m             \u001b[0;32melse\u001b[0m\u001b[0;34m:\u001b[0m\u001b[0;34m\u001b[0m\u001b[0;34m\u001b[0m\u001b[0m\n\u001b[1;32m    736\u001b[0m                 \u001b[0;32mbreak\u001b[0m\u001b[0;34m\u001b[0m\u001b[0;34m\u001b[0m\u001b[0m\n",
            "\u001b[0;31mKeyboardInterrupt\u001b[0m: "
          ]
        }
      ]
    },
    {
      "cell_type": "markdown",
      "metadata": {
        "id": "Vaa8B7zZb3wo"
      },
      "source": [
        "## Exemplo 4 - Criando uma senha em Python"
      ]
    },
    {
      "cell_type": "code",
      "metadata": {
        "id": "Od2lqnb1b7VK",
        "colab": {
          "base_uri": "https://localhost:8080/"
        },
        "outputId": "259b934c-3bb6-4eb6-a08b-160708b44ea0"
      },
      "source": [
        "import random\n",
        "\n",
        "# Uma função que embaralha todos os caracteres de uma string\n",
        "def embaralha(string):\n",
        "  tempList = list(string)\n",
        "  random.shuffle(tempList)\n",
        "  return ''.join(tempList)\n",
        "\n",
        "# Gerar letras aleatórias\n",
        "letra_1=chr(random.randint(65,90)) # Gere uma letra maiúscula aleatória (com base no código ASCII)\n",
        "letra_2=chr(random.randint(65,90)) # Gere uma letra maiúscula aleatória (com base no código ASCII)\n",
        "# Continue aqui a geração de letras. Copie e cole a linha acima mudando o nome da variável\n",
        "\n",
        "\n",
        "# Gere senha usando todos os caracteres, em ordem aleatória\n",
        "password = letra_1 + letra_2    # Concatene outras letras\n",
        "password = embaralha(password)\n",
        "\n",
        "# Saída\n",
        "print(password)"
      ],
      "execution_count": null,
      "outputs": [
        {
          "output_type": "stream",
          "text": [
            "AY\n"
          ],
          "name": "stdout"
        }
      ]
    },
    {
      "cell_type": "markdown",
      "metadata": {
        "id": "Dz91GU4dcvGn"
      },
      "source": [
        "## Exemplo 5 - Jogando os dados"
      ]
    },
    {
      "cell_type": "code",
      "metadata": {
        "id": "XZ4Hmkqfcuuu",
        "colab": {
          "base_uri": "https://localhost:8080/"
        },
        "outputId": "c883a96b-6674-4472-c2bd-28164029e6ef"
      },
      "source": [
        "import random\n",
        "min = 1 # Valor mínimo que um dado pode mostrar\n",
        "max = 6 # Valor máximo que um dado pode mostrar\n",
        "\n",
        "jogar_novamente = 'sim'\n",
        "\n",
        "while jogar_novamente == 'sim' or jogar_novamente == 's':\n",
        "    print ('Jogando os dados...')\n",
        "    print ('Os valores são....')\n",
        "    print (random.randint(min, max))\n",
        "    print (random.randint(min, max))\n",
        "\n",
        "    jogar_novamente = input('Jogar os dados mais uma vez? ')\n"
      ],
      "execution_count": null,
      "outputs": [
        {
          "output_type": "stream",
          "text": [
            "Jogando os dados...\n",
            "Os valores são....\n",
            "1\n",
            "6\n",
            "Jogar os dados mais uma vez? sim\n",
            "Jogando os dados...\n",
            "Os valores são....\n",
            "1\n",
            "4\n",
            "Jogar os dados mais uma vez? s\n",
            "Jogando os dados...\n",
            "Os valores são....\n",
            "2\n",
            "1\n",
            "Jogar os dados mais uma vez? n\n"
          ],
          "name": "stdout"
        }
      ]
    },
    {
      "cell_type": "markdown",
      "metadata": {
        "id": "DMxODKFza7FC"
      },
      "source": [
        "## Exemplo 6 - Calculadora"
      ]
    },
    {
      "cell_type": "code",
      "metadata": {
        "id": "wiDK4jhAtGWV"
      },
      "source": [
        "def adicao(a, b):\n",
        "    sum = a + b\n",
        "    return sum\n",
        "\n",
        "def subtracao(a, b):\n",
        "    diff = a - b\n",
        "    return diff\n",
        "\n",
        "def multiplicacao(a, b):\n",
        "    multi = a*b\n",
        "    return multi\n",
        "\n",
        "def divisao(a, b):\n",
        "    divi = a/b\n",
        "    return divi\n",
        "\n",
        "a = int(input('Digite o primeiro número: '))\n",
        "b = int(input('Digite o segundo número: '))\n",
        "\n",
        "print() # Coloquei esse print para dar um espaço em branco\n",
        "print() # Coloquei esse print para dar um espaço em branco\n",
        "\n",
        "print('A soma entre os números é: ', adicao(a,b))\n",
        "print('A diferença entre os número é: ', subtracao(a,b))\n",
        "print('A multiplicação entre os números é: ', multiplicacao(a,b))\n",
        "print('A divisão entre os números é: ', divisao(a,b))"
      ],
      "execution_count": null,
      "outputs": []
    }
  ]
}