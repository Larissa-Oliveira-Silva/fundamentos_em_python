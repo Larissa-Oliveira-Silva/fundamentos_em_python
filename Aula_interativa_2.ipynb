{
  "nbformat": 4,
  "nbformat_minor": 0,
  "metadata": {
    "colab": {
      "name": "Aula_interativa_2.ipynb",
      "provenance": [],
      "collapsed_sections": []
    },
    "kernelspec": {
      "name": "python3",
      "display_name": "Python 3"
    }
  },
  "cells": [
    {
      "cell_type": "markdown",
      "metadata": {
        "id": "_0nEneeA1KcD"
      },
      "source": [
        "# **Aula Interativa 2**"
      ]
    },
    {
      "cell_type": "markdown",
      "metadata": {
        "id": "ZehlCpjS05Iu"
      },
      "source": [
        "Data: 01/07/2021\n",
        "\n",
        "Professor: Erick Faria  \n",
        "website: www.erickfaria.com  \n",
        "youtube: https://www.youtube.com/channel/UCzHAqwm3RSDM-YKdxd4XYTg\n",
        "\n",
        "**Se você deseja aprofundar mais seus conhecimentos em Python dê uma olhada no livro: Fundamentos em Python: Guia completo para Iniciantes**\n",
        "\n",
        "![frame.png](data:image/png;base64,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)"
      ]
    },
    {
      "cell_type": "markdown",
      "metadata": {
        "id": "_-YJEQsyKg7O"
      },
      "source": [
        "## Exemplo 1 - Lambda - Alguns exemplos simples"
      ]
    },
    {
      "cell_type": "code",
      "metadata": {
        "colab": {
          "base_uri": "https://localhost:8080/"
        },
        "id": "nqs8h8MVKfgp",
        "outputId": "525a6280-f331-4740-8c7f-98fb429929c4"
      },
      "source": [
        "x = lambda y : y + 30\n",
        "\n",
        "print(x(5)) "
      ],
      "execution_count": 1,
      "outputs": [
        {
          "output_type": "stream",
          "text": [
            "35\n"
          ],
          "name": "stdout"
        }
      ]
    },
    {
      "cell_type": "code",
      "metadata": {
        "colab": {
          "base_uri": "https://localhost:8080/"
        },
        "id": "Ho2JAriLKlN7",
        "outputId": "3deecd7d-bdc8-46c2-86fc-6c131e5de5ad"
      },
      "source": [
        "x = lambda valor_1, valor_2 : valor_1 * valor_2\n",
        "\n",
        "print(x(10, 3))"
      ],
      "execution_count": 2,
      "outputs": [
        {
          "output_type": "stream",
          "text": [
            "30\n"
          ],
          "name": "stdout"
        }
      ]
    },
    {
      "cell_type": "code",
      "metadata": {
        "colab": {
          "base_uri": "https://localhost:8080/"
        },
        "id": "ARngbQk9Kt0g",
        "outputId": "b5adde74-e3f9-4a9d-c24e-9af56c92648d"
      },
      "source": [
        "x = lambda x, y, z : x + y + z\n",
        "\n",
        "print(x(10, 10, 30)) "
      ],
      "execution_count": 3,
      "outputs": [
        {
          "output_type": "stream",
          "text": [
            "50\n"
          ],
          "name": "stdout"
        }
      ]
    },
    {
      "cell_type": "code",
      "metadata": {
        "colab": {
          "base_uri": "https://localhost:8080/"
        },
        "id": "m0BKOf8cLYUp",
        "outputId": "e6680abd-2f76-4caf-e73d-b49a5e865f55"
      },
      "source": [
        "def nome_funcao(n):\n",
        "  return lambda a : a * n\n",
        "\n",
        "multiplicador = nome_funcao(6) # Aqui eu digito o valor pelo qual quero multiplicar\n",
        "\n",
        "print(multiplicador(10))"
      ],
      "execution_count": null,
      "outputs": [
        {
          "output_type": "stream",
          "text": [
            "60\n"
          ],
          "name": "stdout"
        }
      ]
    },
    {
      "cell_type": "code",
      "metadata": {
        "colab": {
          "base_uri": "https://localhost:8080/"
        },
        "id": "_y34ACYsLstF",
        "outputId": "950d9cb3-5e34-4c5d-922a-818cfa6f6827"
      },
      "source": [
        "lista = [1, 5, 4, 6, 8, 11, 3, 12]\n",
        "\n",
        "nova_lista = list(filter(lambda x: (x%2 == 0), lista))\n",
        "\n",
        "print(nova_lista)"
      ],
      "execution_count": null,
      "outputs": [
        {
          "output_type": "stream",
          "text": [
            "[4, 6, 8, 12]\n"
          ],
          "name": "stdout"
        }
      ]
    },
    {
      "cell_type": "markdown",
      "metadata": {
        "id": "E-4d9O3ulR2H"
      },
      "source": [
        "## Exemplo 2 - Adivinhe o número"
      ]
    },
    {
      "cell_type": "code",
      "metadata": {
        "id": "FcnFgvDzfm4q",
        "colab": {
          "base_uri": "https://localhost:8080/"
        },
        "outputId": "e9aee184-0bce-4f0c-d5df-b6a0fa5a1b61"
      },
      "source": [
        "import random\n",
        "\n",
        "n = random.randint(1, 99)\n",
        "\n",
        "adivinhe = int(input('Tente adivinhar um número entre 1 e 99: '))\n",
        "\n",
        "while n != adivinhe: #Lê-se: 'Enquanto o n for diferente da variável adivinhe, faça...'\n",
        "    print()\n",
        "    if adivinhe < n:\n",
        "        print('O número é maior que este')\n",
        "        adivinhe = int(input('Tente outra vez: '))\n",
        "    elif adivinhe > n:\n",
        "        print('O número é menor que este')\n",
        "        adivinhe = int(input('Tente outra vez: '))\n",
        "    else:\n",
        "        print('Você acertou!')\n",
        "        break # O comando break serve para 'parar' o loop\n",
        "    print()\n"
      ],
      "execution_count": 6,
      "outputs": [
        {
          "output_type": "stream",
          "text": [
            "Tente adivinhar um número entre 1 e 99: 35\n",
            "\n",
            "O número é maior que este\n",
            "Tente outra vez: 50\n",
            "\n",
            "\n",
            "O número é maior que este\n",
            "Tente outra vez: 80\n",
            "\n",
            "\n",
            "O número é menor que este\n",
            "Tente outra vez: 60\n",
            "\n",
            "\n",
            "O número é maior que este\n",
            "Tente outra vez: 70\n",
            "\n",
            "\n",
            "O número é maior que este\n",
            "Tente outra vez: 75\n",
            "\n",
            "\n",
            "O número é maior que este\n",
            "Tente outra vez: 78\n",
            "\n",
            "\n",
            "O número é menor que este\n",
            "Tente outra vez: 77\n",
            "\n"
          ],
          "name": "stdout"
        }
      ]
    },
    {
      "cell_type": "markdown",
      "metadata": {
        "id": "32cMeApPoYvB"
      },
      "source": [
        "## Exemplo 3 - Jogo Pedra, Papel, Tesoura"
      ]
    },
    {
      "cell_type": "code",
      "metadata": {
        "id": "8a04mjGRbNBA",
        "colab": {
          "base_uri": "https://localhost:8080/",
          "height": 605
        },
        "outputId": "29a00f47-48d2-4837-8f9d-68114ae0ec80"
      },
      "source": [
        "# Importa a função randint que retorna um valor aleatório\n",
        "from random import randint\n",
        "\n",
        "# Cria uma lista com as Opções\n",
        "t = ['Pedra', 'Papel', 'Tesoura']\n",
        "\n",
        "# Coloca o computador para jogar dentro das opções \n",
        "computador = t[randint(0,2)] \n",
        "\n",
        "# Coloca o jogador como False\n",
        "jogador = False\n",
        "\n",
        "while jogador == False:\n",
        "    jogador = input('Pedra, Papel, Tesoura? ')\n",
        "    if jogador == computador:\n",
        "        print('Empate!')\n",
        "    elif jogador == 'Pedra':\n",
        "        if computador == 'Papel':\n",
        "            print('Você Perdeu', computador, 'embrulha', jogador)\n",
        "        else:\n",
        "            print('Você venceu!', jogador, 'esmaga', computador)\n",
        "    elif jogador == 'Papel':\n",
        "        if computador == 'Tesoura':\n",
        "            print('Você Perdeu', computador, 'corta', jogador)\n",
        "        else:\n",
        "            print('Você venceu!', jogador, 'embrulha', computador)\n",
        "    elif jogador == 'Tesoura':\n",
        "        if computador == 'Pedra':\n",
        "            print('Você Perdeu', computador, 'esmaga', jogador)\n",
        "        else:\n",
        "            print('Você venceu!', jogador, 'corta', computador)\n",
        "    else:\n",
        "        print('Essa não é uma jogada válida. Verifique a ortografia!')\n",
        "    \n",
        "    # Para continuar o jogo\n",
        "    jogador = False\n",
        "    computador = t[randint(0,2)]"
      ],
      "execution_count": null,
      "outputs": [
        {
          "output_type": "stream",
          "text": [
            "Pedra, Papel, Tesoura? Pedra\n",
            "Você Perdeu Papel embrulha Pedra\n",
            "Pedra, Papel, Tesoura? Tesoura\n",
            "Você venceu! Tesoura corta Papel\n"
          ],
          "name": "stdout"
        },
        {
          "output_type": "error",
          "ename": "KeyboardInterrupt",
          "evalue": "ignored",
          "traceback": [
            "\u001b[0;31m---------------------------------------------------------------------------\u001b[0m",
            "\u001b[0;31mKeyboardInterrupt\u001b[0m                         Traceback (most recent call last)",
            "\u001b[0;32m/usr/local/lib/python3.7/dist-packages/ipykernel/kernelbase.py\u001b[0m in \u001b[0;36m_input_request\u001b[0;34m(self, prompt, ident, parent, password)\u001b[0m\n\u001b[1;32m    728\u001b[0m             \u001b[0;32mtry\u001b[0m\u001b[0;34m:\u001b[0m\u001b[0;34m\u001b[0m\u001b[0;34m\u001b[0m\u001b[0m\n\u001b[0;32m--> 729\u001b[0;31m                 \u001b[0mident\u001b[0m\u001b[0;34m,\u001b[0m \u001b[0mreply\u001b[0m \u001b[0;34m=\u001b[0m \u001b[0mself\u001b[0m\u001b[0;34m.\u001b[0m\u001b[0msession\u001b[0m\u001b[0;34m.\u001b[0m\u001b[0mrecv\u001b[0m\u001b[0;34m(\u001b[0m\u001b[0mself\u001b[0m\u001b[0;34m.\u001b[0m\u001b[0mstdin_socket\u001b[0m\u001b[0;34m,\u001b[0m \u001b[0;36m0\u001b[0m\u001b[0;34m)\u001b[0m\u001b[0;34m\u001b[0m\u001b[0;34m\u001b[0m\u001b[0m\n\u001b[0m\u001b[1;32m    730\u001b[0m             \u001b[0;32mexcept\u001b[0m \u001b[0mException\u001b[0m\u001b[0;34m:\u001b[0m\u001b[0;34m\u001b[0m\u001b[0;34m\u001b[0m\u001b[0m\n",
            "\u001b[0;32m/usr/local/lib/python3.7/dist-packages/jupyter_client/session.py\u001b[0m in \u001b[0;36mrecv\u001b[0;34m(self, socket, mode, content, copy)\u001b[0m\n\u001b[1;32m    802\u001b[0m         \u001b[0;32mtry\u001b[0m\u001b[0;34m:\u001b[0m\u001b[0;34m\u001b[0m\u001b[0;34m\u001b[0m\u001b[0m\n\u001b[0;32m--> 803\u001b[0;31m             \u001b[0mmsg_list\u001b[0m \u001b[0;34m=\u001b[0m \u001b[0msocket\u001b[0m\u001b[0;34m.\u001b[0m\u001b[0mrecv_multipart\u001b[0m\u001b[0;34m(\u001b[0m\u001b[0mmode\u001b[0m\u001b[0;34m,\u001b[0m \u001b[0mcopy\u001b[0m\u001b[0;34m=\u001b[0m\u001b[0mcopy\u001b[0m\u001b[0;34m)\u001b[0m\u001b[0;34m\u001b[0m\u001b[0;34m\u001b[0m\u001b[0m\n\u001b[0m\u001b[1;32m    804\u001b[0m         \u001b[0;32mexcept\u001b[0m \u001b[0mzmq\u001b[0m\u001b[0;34m.\u001b[0m\u001b[0mZMQError\u001b[0m \u001b[0;32mas\u001b[0m \u001b[0me\u001b[0m\u001b[0;34m:\u001b[0m\u001b[0;34m\u001b[0m\u001b[0;34m\u001b[0m\u001b[0m\n",
            "\u001b[0;32m/usr/local/lib/python3.7/dist-packages/zmq/sugar/socket.py\u001b[0m in \u001b[0;36mrecv_multipart\u001b[0;34m(self, flags, copy, track)\u001b[0m\n\u001b[1;32m    582\u001b[0m         \"\"\"\n\u001b[0;32m--> 583\u001b[0;31m         \u001b[0mparts\u001b[0m \u001b[0;34m=\u001b[0m \u001b[0;34m[\u001b[0m\u001b[0mself\u001b[0m\u001b[0;34m.\u001b[0m\u001b[0mrecv\u001b[0m\u001b[0;34m(\u001b[0m\u001b[0mflags\u001b[0m\u001b[0;34m,\u001b[0m \u001b[0mcopy\u001b[0m\u001b[0;34m=\u001b[0m\u001b[0mcopy\u001b[0m\u001b[0;34m,\u001b[0m \u001b[0mtrack\u001b[0m\u001b[0;34m=\u001b[0m\u001b[0mtrack\u001b[0m\u001b[0;34m)\u001b[0m\u001b[0;34m]\u001b[0m\u001b[0;34m\u001b[0m\u001b[0;34m\u001b[0m\u001b[0m\n\u001b[0m\u001b[1;32m    584\u001b[0m         \u001b[0;31m# have first part already, only loop while more to receive\u001b[0m\u001b[0;34m\u001b[0m\u001b[0;34m\u001b[0m\u001b[0;34m\u001b[0m\u001b[0m\n",
            "\u001b[0;32mzmq/backend/cython/socket.pyx\u001b[0m in \u001b[0;36mzmq.backend.cython.socket.Socket.recv\u001b[0;34m()\u001b[0m\n",
            "\u001b[0;32mzmq/backend/cython/socket.pyx\u001b[0m in \u001b[0;36mzmq.backend.cython.socket.Socket.recv\u001b[0;34m()\u001b[0m\n",
            "\u001b[0;32mzmq/backend/cython/socket.pyx\u001b[0m in \u001b[0;36mzmq.backend.cython.socket._recv_copy\u001b[0;34m()\u001b[0m\n",
            "\u001b[0;32m/usr/local/lib/python3.7/dist-packages/zmq/backend/cython/checkrc.pxd\u001b[0m in \u001b[0;36mzmq.backend.cython.checkrc._check_rc\u001b[0;34m()\u001b[0m\n",
            "\u001b[0;31mKeyboardInterrupt\u001b[0m: ",
            "\nDuring handling of the above exception, another exception occurred:\n",
            "\u001b[0;31mKeyboardInterrupt\u001b[0m                         Traceback (most recent call last)",
            "\u001b[0;32m<ipython-input-13-881621a3d447>\u001b[0m in \u001b[0;36m<module>\u001b[0;34m()\u001b[0m\n\u001b[1;32m     12\u001b[0m \u001b[0;34m\u001b[0m\u001b[0m\n\u001b[1;32m     13\u001b[0m \u001b[0;32mwhile\u001b[0m \u001b[0mjogador\u001b[0m \u001b[0;34m==\u001b[0m \u001b[0;32mFalse\u001b[0m\u001b[0;34m:\u001b[0m\u001b[0;34m\u001b[0m\u001b[0;34m\u001b[0m\u001b[0m\n\u001b[0;32m---> 14\u001b[0;31m     \u001b[0mjogador\u001b[0m \u001b[0;34m=\u001b[0m \u001b[0minput\u001b[0m\u001b[0;34m(\u001b[0m\u001b[0;34m'Pedra, Papel, Tesoura? '\u001b[0m\u001b[0;34m)\u001b[0m\u001b[0;34m\u001b[0m\u001b[0;34m\u001b[0m\u001b[0m\n\u001b[0m\u001b[1;32m     15\u001b[0m     \u001b[0;32mif\u001b[0m \u001b[0mjogador\u001b[0m \u001b[0;34m==\u001b[0m \u001b[0mcomputador\u001b[0m\u001b[0;34m:\u001b[0m\u001b[0;34m\u001b[0m\u001b[0;34m\u001b[0m\u001b[0m\n\u001b[1;32m     16\u001b[0m         \u001b[0mprint\u001b[0m\u001b[0;34m(\u001b[0m\u001b[0;34m'Empate!'\u001b[0m\u001b[0;34m)\u001b[0m\u001b[0;34m\u001b[0m\u001b[0;34m\u001b[0m\u001b[0m\n",
            "\u001b[0;32m/usr/local/lib/python3.7/dist-packages/ipykernel/kernelbase.py\u001b[0m in \u001b[0;36mraw_input\u001b[0;34m(self, prompt)\u001b[0m\n\u001b[1;32m    702\u001b[0m             \u001b[0mself\u001b[0m\u001b[0;34m.\u001b[0m\u001b[0m_parent_ident\u001b[0m\u001b[0;34m,\u001b[0m\u001b[0;34m\u001b[0m\u001b[0;34m\u001b[0m\u001b[0m\n\u001b[1;32m    703\u001b[0m             \u001b[0mself\u001b[0m\u001b[0;34m.\u001b[0m\u001b[0m_parent_header\u001b[0m\u001b[0;34m,\u001b[0m\u001b[0;34m\u001b[0m\u001b[0;34m\u001b[0m\u001b[0m\n\u001b[0;32m--> 704\u001b[0;31m             \u001b[0mpassword\u001b[0m\u001b[0;34m=\u001b[0m\u001b[0;32mFalse\u001b[0m\u001b[0;34m,\u001b[0m\u001b[0;34m\u001b[0m\u001b[0;34m\u001b[0m\u001b[0m\n\u001b[0m\u001b[1;32m    705\u001b[0m         )\n\u001b[1;32m    706\u001b[0m \u001b[0;34m\u001b[0m\u001b[0m\n",
            "\u001b[0;32m/usr/local/lib/python3.7/dist-packages/ipykernel/kernelbase.py\u001b[0m in \u001b[0;36m_input_request\u001b[0;34m(self, prompt, ident, parent, password)\u001b[0m\n\u001b[1;32m    732\u001b[0m             \u001b[0;32mexcept\u001b[0m \u001b[0mKeyboardInterrupt\u001b[0m\u001b[0;34m:\u001b[0m\u001b[0;34m\u001b[0m\u001b[0;34m\u001b[0m\u001b[0m\n\u001b[1;32m    733\u001b[0m                 \u001b[0;31m# re-raise KeyboardInterrupt, to truncate traceback\u001b[0m\u001b[0;34m\u001b[0m\u001b[0;34m\u001b[0m\u001b[0;34m\u001b[0m\u001b[0m\n\u001b[0;32m--> 734\u001b[0;31m                 \u001b[0;32mraise\u001b[0m \u001b[0mKeyboardInterrupt\u001b[0m\u001b[0;34m\u001b[0m\u001b[0;34m\u001b[0m\u001b[0m\n\u001b[0m\u001b[1;32m    735\u001b[0m             \u001b[0;32melse\u001b[0m\u001b[0;34m:\u001b[0m\u001b[0;34m\u001b[0m\u001b[0;34m\u001b[0m\u001b[0m\n\u001b[1;32m    736\u001b[0m                 \u001b[0;32mbreak\u001b[0m\u001b[0;34m\u001b[0m\u001b[0;34m\u001b[0m\u001b[0m\n",
            "\u001b[0;31mKeyboardInterrupt\u001b[0m: "
          ]
        }
      ]
    },
    {
      "cell_type": "markdown",
      "metadata": {
        "id": "Vaa8B7zZb3wo"
      },
      "source": [
        "## Exemplo 4 - Criando uma senha em Python"
      ]
    },
    {
      "cell_type": "code",
      "metadata": {
        "id": "Od2lqnb1b7VK",
        "colab": {
          "base_uri": "https://localhost:8080/"
        },
        "outputId": "1a91e7a1-732f-4dbe-e9d9-737464c3e593"
      },
      "source": [
        "import random\n",
        "\n",
        "# Uma função que embaralha todos os caracteres de uma string\n",
        "def embaralha(string):\n",
        "  tempList = list(string)\n",
        "  random.shuffle(tempList)\n",
        "  return ''.join(tempList)\n",
        "\n",
        "# Gerar letras aleatórias\n",
        "letra_1=chr(random.randint(65,90)) # Gere uma letra maiúscula aleatória (com base no código ASCII)\n",
        "letra_2=chr(random.randint(65,90)) # Gere uma letra maiúscula aleatória (com base no código ASCII)\n",
        "# Continue aqui a geração de letras. Copie e cole a linha acima mudando o nome da variável\n",
        "\n",
        "\n",
        "# Gere senha usando todos os caracteres, em ordem aleatória\n",
        "password = letra_1 + letra_2    # Concatene outras letras\n",
        "password = embaralha(password)\n",
        "\n",
        "# Saída\n",
        "print(password)"
      ],
      "execution_count": null,
      "outputs": [
        {
          "output_type": "stream",
          "text": [
            "EF\n"
          ],
          "name": "stdout"
        }
      ]
    },
    {
      "cell_type": "markdown",
      "metadata": {
        "id": "Dz91GU4dcvGn"
      },
      "source": [
        "## Exemplo 5 - Jogando os dados"
      ]
    },
    {
      "cell_type": "code",
      "metadata": {
        "id": "XZ4Hmkqfcuuu",
        "colab": {
          "base_uri": "https://localhost:8080/"
        },
        "outputId": "02e1ad2f-9e52-436b-e63d-8c3af5e05ea5"
      },
      "source": [
        "import random\n",
        "min = 1 # Valor mínimo que um dado pode mostrar\n",
        "max = 6 # Valor máximo que um dado pode mostrar\n",
        "\n",
        "jogar_novamente = 'sim'\n",
        "\n",
        "while jogar_novamente == 'sim' or jogar_novamente == 's':\n",
        "    print ('Jogando os dados...')\n",
        "    print ('Os valores são....')\n",
        "    print (random.randint(min, max))\n",
        "    print (random.randint(min, max))\n",
        "\n",
        "    jogar_novamente = input('Jogar os dados mais uma vez? ')\n"
      ],
      "execution_count": null,
      "outputs": [
        {
          "output_type": "stream",
          "text": [
            "Jogando os dados...\n",
            "Os valores são....\n",
            "5\n",
            "6\n",
            "Jogar os dados mais uma vez? Sim\n",
            "Jogando os dados...\n",
            "Os valores são....\n",
            "1\n",
            "3\n",
            "Jogar os dados mais uma vez? sim\n"
          ],
          "name": "stdout"
        }
      ]
    },
    {
      "cell_type": "markdown",
      "metadata": {
        "id": "DMxODKFza7FC"
      },
      "source": [
        "## Exemplo 6 - Calculadora"
      ]
    },
    {
      "cell_type": "code",
      "metadata": {
        "id": "wiDK4jhAtGWV",
        "colab": {
          "base_uri": "https://localhost:8080/"
        },
        "outputId": "f9b16433-d5e8-40f7-973c-9d406eba8abd"
      },
      "source": [
        "def adicao(a, b):\n",
        "    sum = a + b\n",
        "    return sum\n",
        "\n",
        "def subtracao(a, b):\n",
        "    diff = a - b\n",
        "    return diff\n",
        "\n",
        "def multiplicacao(a, b):\n",
        "    multi = a*b\n",
        "    return multi\n",
        "\n",
        "def divisao(a, b):\n",
        "    divi = a/b\n",
        "    return divi\n",
        "\n",
        "a = int(input('Digite o primeiro número: '))\n",
        "b = int(input('Digite o segundo número: '))\n",
        "\n",
        "print() # Coloquei esse print para dar um espaço em branco\n",
        "print() # Coloquei esse print para dar um espaço em branco\n",
        "\n",
        "print('A soma entre os números é: ', adicao(a,b))\n",
        "print('A diferença entre os número é: ', subtracao(a,b))\n",
        "print('A multiplicação entre os números é: ', multiplicacao(a,b))\n",
        "print('A divisão entre os números é: ', divisao(a,b))"
      ],
      "execution_count": null,
      "outputs": [
        {
          "output_type": "stream",
          "text": [
            "Digite o primeiro número: 10\n",
            "Digite o segundo número: 10\n",
            "\n",
            "\n",
            "A soma entre os números é:  20\n",
            "A diferença entre os número é:  0\n",
            "A multiplicação entre os números é:  100\n",
            "A divisão entre os números é:  1.0\n"
          ],
          "name": "stdout"
        }
      ]
    }
  ]
}