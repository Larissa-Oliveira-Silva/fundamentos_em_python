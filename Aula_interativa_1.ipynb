{
  "nbformat": 4,
  "nbformat_minor": 0,
  "metadata": {
    "colab": {
      "name": "Aula_interativa_1.ipynb",
      "provenance": [],
      "collapsed_sections": [
        "JaY0KQ7DEwNM",
        "JcysZbVyCIFc",
        "p9O8Q4RACFQk",
        "KY5rqWphCiSE",
        "FrK0dv94s42V",
        "_7vTLePiGXT3",
        "CCuWJPuOIgxv",
        "_SlcyRH7IkOW",
        "2DmpiyLmydB7",
        "meiLwQFeLsED",
        "_z4SWnIuL1oh",
        "ZuwPW9tlMT4a",
        "Pp8P3PJkMo6X",
        "ecMIXSeN1gdN",
        "hLxctbAIZnil",
        "tAmUAIBHZsI2",
        "IiPTlnS-ZxR6",
        "lSLDD8F0Z29M"
      ]
    },
    "kernelspec": {
      "name": "python3",
      "display_name": "Python 3"
    }
  },
  "cells": [
    {
      "cell_type": "markdown",
      "metadata": {
        "id": "w95CuZOIcOS8"
      },
      "source": [
        "# **Aula Interativa 1**"
      ]
    },
    {
      "cell_type": "markdown",
      "metadata": {
        "id": "4kzOGx5nora4"
      },
      "source": [
        "Data: 24/06/2021\n",
        "\n",
        "Professor: Erick Faria\n",
        "\n",
        "GitHub: https://github.com/erickfaria\n",
        "\n",
        "youtube: https://www.youtube.com/channel/UCzHAqwm3RSDM-YKdxd4XYTg\n",
        "\n",
        "![frame.png](data:image/png;base64,iVBORw0KGgoAAAANSUhEUgAAASwAAAEsCAYAAAB5fY51AAAABGdBTUEAALGPC/xhBQAAACBjSFJNAAB6JgAAgIQAAPoAAACA6AAAdTAAAOpgAAA6mAAAF3CculE8AAAABmJLR0QAAAAAAAD5Q7t/AAAACXBIWXMAAABgAAAAYADwa0LPAAAOc0lEQVR42u3dUW7bVhSEYbroGighy1K8CsHLMbKI2PGyYsqbUB8Ko0Ejk4fh+Nwzl/8H8KkFyUvSU1uaHt5dr9frAAAG/mp9AgAQRWABsEFgAbBBYAGwQWABsEFgAbBBYAGwQWABsEFgAbBBYAGwQWABsEFgAbBBYAGwQWABsEFgAbBBYAGwQWABsEFgAbBBYAGwQWABsEFgAbBBYAGwQWABsEFgAbBBYAGwQWABsEFgAbBBYAGwQWABsEFgAbBBYAGwQWABsEFgAbBBYAGwQWABsEFgAbBRMrAOh8Nwd3e3y83R09PTh/fscDgMP378SN2PCs9hPXfX6/Xa+iT+73A4DG9vb61Po4mCt2PR0v0ax3G4XC5p+8laV8+qPoclf8OCl6Uf6ugPvWo/6BeBBcAGgQXABoEFwAaBBcAGgYUUS9/uvb6+SvaDvhFYSHE+nz8Mm9fX1+Hh4WHzfrAD14LGcbwOwzC7TdPU+jQ/ZV0R379//3Bf4zhen5+fU/eztKasbc05q+7Xnp/DFmyLo9M0DYfDofWpytcVuR3VipqVmtHKcinPYT38SWiIomZf54w4AguADQILgA0CC4ANAguADQLL0DiOs//8eDym7qcSx3NGHIFl6Nu3bx+GzfF4HB4fH1P3U4XjOWOl1kWwW1SFvaV9KDfVuhypruH9/b2kiKkqxPIc1sNvWCjj8fFRUsJ8eHj4sI/19vY2nM/n1kvFHyKwUIaqMd5jIRb/IrAA2CCwANggsADYILAA2CCwsNlSATVTdHIpPBFY2GyugJppzeRSeCKwDM290l21rXk1/NevX4fL5TJcr9fftmmahtPplLL2L1++DC8vL61vDz5R1xNHMydhRi5j1sRRFdX0zsvlEvp//DLXrjrWnp/DFvgNy1BW8VF1HOUIYUqf+0ZgAbBBYAGwQWABsEFgAbBBYBnK6jwpp3cqppuqSqFMJfVFYBnKKGqqp3dunW6qKoUyldRc6wmCtzDp8c9N03Q9nU6yCZ+q6Z0Rc8das6kml/Ic1lPyzHhQtpmmKXTOkWu4dM7jOKbed9W6VOfDc5iLPwk7FC1qRv69zOmdFYuqqIXAAmCDwAJgg8ACYIPAAmCDwOpQ9tRNxQgaSqGIILA602Lq5vl83hRalEIR9XfrE/hM16JDyLZ6enqafbtxtpeXl7RJn/f397I3RGfp9Tlsgd+wDFUKq2xuYQUtAsvQXsNqGCiF7h2BBcAGgQXABoEFwAaBBcAGgbVT0YJlhTc6A+8IrB1aU7Cs8hp6YBiGmpO6VIPcHLeIyH4ypomqppuu2U+Eakoqz2E9Jc+MB2XhpgX2kzVNVDXdNLofxfMTnZLKc1jP3fVa7/8bOBwOuy1HRm7H3d0d+0nYD89hPXyGBcAGgQXABoEFwAaBBcAGgWUo87XvS4P5lNNNFetC3wgsQ5mvfZ+bJqqebrp1XehfyVoDtqs2lTTzMVPVGlAPgdWpah0iAgsKBFanIj+0mQgsKPAZFgAbBBYAGwQWABsEFgAbBFaHsl9VvyS78EkBtV8EVmdavKp+TovCJwXUjrUeyHXL3MTIatuaCZbV1hWZSup0T1X3gv3UVTKwKv1QR39QHNeVFVaZa1fdi73vp6qSxdFqpceIyGWstq7MW5+5dtW92PN+quIzLAA2CCwANggsADYILAA2SgaW45uGlyZzVltXtTKn67oiFM9GdF3dl2Zbf015y/Pzc7kKwNJ2Op0WawJV1nU8HtP7OBlrX7OuyP5U+9n6bKxZl2o/VZUMrDlrXmse2VSvUJ/bqhb2ei8ZzskMrGrPhvN9L9nDWnK5XGS/2k7TNBwOh08/1jiOoT8NMi1NJa14ziqZvacl2dfZ+b5bBtYw6IqIWQ9l9FiZei8ZZqzd8dlwvu8lP3QHgFsILAA2CCwANggsADYsA0s1UVNVxouq+s1Lb+e8JPr8uJWBo5zLpXaBpZqouWby5NwEyzXmXvteleM5z1nz/ETWrno2MllPZG1dBLtFNZ0yMlFza4nOuVy69Zz3vKmfja0/F9ULnyole1iq16wvlUIjx4qU6FzLpdUGCrpRPhuRH0PnwqdKycCqVgpV7Ud1zioE1nbVnrGCP85Sdp9hAdgvAguADQILgA0CC4CN3QdW1qTHiF6ngPYqewqoc+FTZfeBpSrRbS0QVnulO+apno0W+7HWugh2yyAq9znaWppVFQjXlB4zX3mvOmendeE/u+9hVaMozaoKhNHSY6SgmyVzGi3yEVjFVFu7Y1mx2jWEzu4/wwLgg8ACYIPAAmCDwAJgo2Rg7bUblD1JNcKtrKi6hsPQ57RVdyUDa4+FxhaTVCOcyoqqa/iut2mrXWhdBFtLPcUxQjXpscok1chWdYKl6ho6bZnPWNX7/q5kD2uJcopjhGrSY6VJqhEVJ1iqrqGbzGes4n1/ZxlYw5BbaHScStpreXLPU1L3fN/flfwMCwBuIbAA2CCwANggsADYsA2szEKj41RSxwmoS5SlUDeZ96Laff+VbWBlFhodp5I6TkCdoy6FOsm8F9Xu+29aF8FuqVLUVB1LXcbb47FabHMF3arTTTOP1ULJwFp6aMdxlOwnGlqZ58yx2gfV+7b0Qz1NU9qxojKP1ULJ4mivRU3Vpd7zsTJVe8YiHCfErmH7GRaA/SGwANggsADYILAA2CCwApZGbUQLjaqRHVml2cx1VSyFRtZVbdCk24TY1Vp/TXnLEPhqVrWfyHY6nT78Kvjnz5/hPs7cftZ4fn7+sAJwPB4l3ajMda05VuYWWdfcvVizqWQ8Gy0RWEZbi+mmjltG4TNyL9TTcTNLvFXRwzKTPd3U0dJEVtXr7CP3QjkdVzX51hmBZWjPa4/IvD6qY2XuxxkfugOwQWABsEFgAbBBYAGwQWB1qlqhMUvkGzlVSVU1/TV7P84IrE5tnTjqKDItUzW5VDX9tcV+rLUugt0yFCuOZkxoVJcMVcfKuD5rzidyLFVp1nEyJ6+qb6BaDyvyangFZclQdays6xM9n8ixVKXZrPuuxKvqW5xUscDKvESOEz4zz6fX+67S+9r5DAuADQILgA0CC4ANAguAja4DS9VDyvrGpOLUzSXKsqKiGKm8hlW/KZvTe/eu68BSlSfP5/OnP7yOr2JXlxW3FiPV1zDjvqt1XxhuXQS7ZTAqT7aYApp5nVXlSdW0zD1OUlWVOTPLyZ+l6x7WkszJk8OgKzSqblnkOqvKk6ppmXudpKoqc2aWkz/DrgMreqyIyPlUK/VVu86Z19BRtXvRQtefYQHoC4EFwAaBBcAGgQXARsnAypysqOisqCZGKo+1JPM19JG172Fa5hZcn3+VDKzMyYpbi3aqiZHqY81ZU7BUlSeZlvnnuD6/aF0Ew3pO5Un1BEvVeVWbIps53TRyPlWV7GFhnlt5UjnBstcpspnTTZ17WASWIcfypOoxq1a+VZ3zns9njZKfYQHALQQWABsEFgAbBBYAGwQWUmQVUDHPcartrwgspMgooGKe41Tb37Qugt3iUor8jC0i83zmCo3qV97PbZECqnqipmpKasb5tHgOWyjZw3IrRipFbkdmD2up0Kh85f2SSAFVOVFTNSVV1XvK/LkoGAvDMBQtjhJY8zIDq9fz6XU/KgVjYRgGPsMCYITAAmCDwAJgg8ACYIPAMpTVQ8qcpKo8H5XMKamRbxt7vc5rEFiGMsqTmZNU1eejkjklNVKs7fU6r9K6CHZLpByXNZ0xe13VbC1Ptpi6GTlWpsj5zG3qqa3ObHtYmRMaM9dV7XYoypPZUzerDahT9KeUU1ud8SchZi0FbKTgGw0ht/8AZdprkfr/CCwANggsADYILAA2CCwANggszFKVJ6u9qj7rGzf3CZ/VEFiYpSpPVntVvWoC6pwuJnxW07oIdouqOLq0D+WmWlfE1smT6iKiajKnSuZ9r/aM9a7r4mi1gWeq4qhiwKGyiKiazKni+GbsiII/qun4k9CQokSoLCIqyqVABIEFwAaBBcAGgQXABoEFwAaBtWNZr4/PLIX2WtSsPAU0E4G1Yxmvj88shfZa1Cw/BTRT6yLYLRRH66xrbsssoFbd5qaktpi2Wq1UrEZxVCRyGVXF0UrFyMwCakVLz2H2tNVqpWI1Aktkr4EVPeeIautSrT1zZLPqGhaMhWEY+AwLgBECC4ANAguADQILgA0CC5spvlFyLHxWLHNmvc6+FQILm20toDoWPquWOTNeZ99U6yLYLRRHt69LVWh03KqVOVXPz9bJrmvWXlXJMyOwtq9r6fpM09Q8WD5rU61dEVbR+6V4fsZxXNxHdO1VURwViVzGzOKoaj+OMq9hROb9qrZ2NT7DAmCDwAJgg8ACYIPAAmCDwEJXImXOaEk1sxAbOZZqsmulCbFrEVjoRqTMuaakmlmIjRxLNdm1yoTYP9K6V3GLqodVTWYPS7Uf1aYqYUY4Ti6d29ZMAd1aLq2u6x5WNXvuYWXeL8fJpUuiU0CX1l55mmgEfxIiReZ/XHoLqzVrWvr33K8NgQXABoEFwAaBBcAGgQXABoHVqaVvgjInfGYXEXscYFetENsKgdWpuSJi5oTPFkXE3qZuVivENtW6CHZLT6W/tVtE5vlkFj4ztJg4qpJRiK1eLrUtjvYqcjt6LXxmyX59vErWz0XlcimBVUy1wCr4eEg4Tt3kvvMZFgAjBBYAGwQWABsEFgAbBJahrI5R5cmTWzlO3eS+E1iWMoqR5SdPbuQ4dZP7XrTWAAC38BsWABsEFgAbBBYAGwQWABsEFgAbBBYAGwQWABsEFgAbBBYAGwQWABsEFgAbBBYAGwQWABsEFgAbBBYAGwQWABsEFgAbBBYAGwQWABsEFgAbBBYAGwQWABsEFgAbBBYAGwQWABsEFgAbBBYAGwQWABsEFgAbBBYAGwQWABsEFgAbBBYAGwQWABsEFgAbBBYAGwQWABv/AErL1Y2eftONAAAAJXRFWHRkYXRlOmNyZWF0ZQAyMDIxLTAzLTE0VDE2OjI2OjQ1KzAwOjAwVZ/VLwAAACV0RVh0ZGF0ZTptb2RpZnkAMjAyMS0wMy0xNFQxNjoyNjo0NSswMDowMCTCbZMAAAAASUVORK5CYII=)"
      ]
    },
    {
      "cell_type": "markdown",
      "metadata": {
        "id": "uVNXehlNbiEc"
      },
      "source": [
        "Classe: Ideia, abstração, planejamento. Classe tipifica o que será modelado por ela. Ela determina os estados possíveis e os comportamentos que os objetos podem ter.\n",
        "\n",
        "Objeto: Algo concreto; existe na memória do computador.\n",
        "\n",
        "**O objeto é uma instância da classe.**"
      ]
    },
    {
      "cell_type": "markdown",
      "metadata": {
        "id": "T61Q_MLwqMGy"
      },
      "source": [
        "# Programação Orientada a Objetos com Python\n"
      ]
    },
    {
      "cell_type": "code",
      "metadata": {
        "id": "ITVfa9QAWkSK"
      },
      "source": [
        "lista = [1,2,3,4,5,6,7,8,9,10]"
      ],
      "execution_count": null,
      "outputs": []
    },
    {
      "cell_type": "code",
      "metadata": {
        "id": "b6ITTB79Wowy",
        "colab": {
          "base_uri": "https://localhost:8080/"
        },
        "outputId": "fa191d07-a84a-47cd-cd62-9a94d7b0859e"
      },
      "source": [
        "print(type(lista))"
      ],
      "execution_count": null,
      "outputs": [
        {
          "output_type": "stream",
          "text": [
            "<class 'list'>\n"
          ],
          "name": "stdout"
        }
      ]
    },
    {
      "cell_type": "code",
      "metadata": {
        "colab": {
          "base_uri": "https://localhost:8080/"
        },
        "id": "AiNwoSPymMWA",
        "outputId": "14d8efb7-542c-4fc0-f7a9-0fdfaec1d1c0"
      },
      "source": [
        "print(lista)"
      ],
      "execution_count": null,
      "outputs": [
        {
          "output_type": "stream",
          "text": [
            "[1, 2, 3, 4, 5, 6, 7, 8, 9, 10]\n"
          ],
          "name": "stdout"
        }
      ]
    },
    {
      "cell_type": "code",
      "metadata": {
        "id": "0-NCBJKsmPKh",
        "colab": {
          "base_uri": "https://localhost:8080/"
        },
        "outputId": "25806a2f-e962-4082-b196-62bf8516b29d"
      },
      "source": [
        "x = 42\n",
        "type(x)"
      ],
      "execution_count": null,
      "outputs": [
        {
          "output_type": "execute_result",
          "data": {
            "text/plain": [
              "int"
            ]
          },
          "metadata": {
            "tags": []
          },
          "execution_count": 4
        }
      ]
    },
    {
      "cell_type": "code",
      "metadata": {
        "colab": {
          "base_uri": "https://localhost:8080/"
        },
        "id": "WliGuzTWmS_4",
        "outputId": "6f03dc91-d269-40a6-ccd7-a31a618f64f1"
      },
      "source": [
        "y = 4.34\n",
        "print(type(y))"
      ],
      "execution_count": null,
      "outputs": [
        {
          "output_type": "stream",
          "text": [
            "<class 'float'>\n"
          ],
          "name": "stdout"
        }
      ]
    },
    {
      "cell_type": "code",
      "metadata": {
        "id": "fshEQheGg-C4",
        "colab": {
          "base_uri": "https://localhost:8080/"
        },
        "outputId": "f73500a2-c393-46b3-b668-57b6a76da600"
      },
      "source": [
        "def f(x):\n",
        "    return x + 1\n",
        "    \n",
        "type(f)"
      ],
      "execution_count": null,
      "outputs": [
        {
          "output_type": "execute_result",
          "data": {
            "text/plain": [
              "function"
            ]
          },
          "metadata": {
            "tags": []
          },
          "execution_count": 6
        }
      ]
    },
    {
      "cell_type": "code",
      "metadata": {
        "id": "SdTkvdaImZqQ",
        "colab": {
          "base_uri": "https://localhost:8080/"
        },
        "outputId": "288023ea-f382-42d4-9349-742180fd14cc"
      },
      "source": [
        "import math\n",
        "type(math)"
      ],
      "execution_count": null,
      "outputs": [
        {
          "output_type": "execute_result",
          "data": {
            "text/plain": [
              "module"
            ]
          },
          "metadata": {
            "tags": []
          },
          "execution_count": 7
        }
      ]
    },
    {
      "cell_type": "markdown",
      "metadata": {
        "id": "5qOcrssSmmdB"
      },
      "source": [
        "Uma das muitas classes integradas em Python é a classe de lista, que usamos com frequência em nossos exercícios e exemplos.   \n",
        "\n",
        "A classe list fornece uma variedade de **métodos** para criar listas, para acessar e alterar elementos ou para remover elementos:"
      ]
    },
    {
      "cell_type": "code",
      "metadata": {
        "id": "jjRU-vFymngZ",
        "colab": {
          "base_uri": "https://localhost:8080/"
        },
        "outputId": "aa00e5c9-0ee4-4803-9c98-cee1e475614b"
      },
      "source": [
        "x = [3,6,9]\n",
        "y = [45, \"abc\"]\n",
        "print(x[2])"
      ],
      "execution_count": null,
      "outputs": [
        {
          "output_type": "stream",
          "text": [
            "9\n"
          ],
          "name": "stdout"
        }
      ]
    },
    {
      "cell_type": "code",
      "metadata": {
        "id": "z1qmvnJwnZcr",
        "colab": {
          "base_uri": "https://localhost:8080/"
        },
        "outputId": "9811ae38-5add-4815-f3ba-37ef9e7f2165"
      },
      "source": [
        "x = [3,6,9]\n",
        "x[1] = 99\n",
        "x.append(42)\n",
        "print(x)"
      ],
      "execution_count": null,
      "outputs": [
        {
          "output_type": "stream",
          "text": [
            "[3, 99, 9, 42]\n"
          ],
          "name": "stdout"
        }
      ]
    },
    {
      "cell_type": "code",
      "metadata": {
        "id": "gJOzbH3bm-KY",
        "colab": {
          "base_uri": "https://localhost:8080/"
        },
        "outputId": "060a6185-3721-420c-c446-a80e94dda58e"
      },
      "source": [
        "y = [45, \"abc\"]\n",
        "last = y.pop()\n",
        "print(last)"
      ],
      "execution_count": null,
      "outputs": [
        {
          "output_type": "stream",
          "text": [
            "abc\n"
          ],
          "name": "stdout"
        }
      ]
    },
    {
      "cell_type": "markdown",
      "metadata": {
        "id": "hGe4MzognLdD"
      },
      "source": [
        "As variáveis ​​x e y do exemplo anterior denotam duas instâncias da classe de lista"
      ]
    },
    {
      "cell_type": "markdown",
      "metadata": {
        "id": "sKh6Yveig_0u"
      },
      "source": [
        "## Criando Classes"
      ]
    },
    {
      "cell_type": "markdown",
      "metadata": {
        "id": "a3y6Uo0xoF_p"
      },
      "source": [
        "Uma classe consiste em duas partes: o cabeçalho e o corpo"
      ]
    },
    {
      "cell_type": "code",
      "metadata": {
        "id": "SQ4mIAOehJVt",
        "colab": {
          "base_uri": "https://localhost:8080/"
        },
        "outputId": "6a6a1c9f-5a5d-4767-ec1d-dd76817ade5f"
      },
      "source": [
        "class animal:    # Cabeçalho\n",
        "    pass         # Corpo\n",
        "\n",
        "if __name__ == '__main__': # Quando desejamos saber se o estamos executando diretamente, ou importando de módulo\n",
        "    x = animal()       # Animal 1\n",
        "    y = animal()       # Animal 2\n",
        "    y2 = y             # Alias\n",
        "    print(y == y2)\n",
        "    print(y == x)"
      ],
      "execution_count": null,
      "outputs": [
        {
          "output_type": "stream",
          "text": [
            "True\n",
            "False\n"
          ],
          "name": "stdout"
        }
      ]
    },
    {
      "cell_type": "code",
      "metadata": {
        "id": "XxxsrUxBolpR",
        "colab": {
          "base_uri": "https://localhost:8080/"
        },
        "outputId": "82d17b04-43f6-4f93-e6e5-50f30a584135"
      },
      "source": [
        "print(type(animal))"
      ],
      "execution_count": null,
      "outputs": [
        {
          "output_type": "stream",
          "text": [
            "<class 'type'>\n"
          ],
          "name": "stdout"
        }
      ]
    },
    {
      "cell_type": "code",
      "metadata": {
        "id": "ID8ISNurooju"
      },
      "source": [
        "class pessoa:\n",
        "  pass"
      ],
      "execution_count": null,
      "outputs": []
    },
    {
      "cell_type": "code",
      "metadata": {
        "colab": {
          "base_uri": "https://localhost:8080/"
        },
        "id": "yz6KqgRlorqh",
        "outputId": "85005caf-f27f-4d79-df2b-03a9fbb1730a"
      },
      "source": [
        "print(type(pessoa))"
      ],
      "execution_count": null,
      "outputs": [
        {
          "output_type": "stream",
          "text": [
            "<class 'type'>\n"
          ],
          "name": "stdout"
        }
      ]
    },
    {
      "cell_type": "markdown",
      "metadata": {
        "id": "aJQ1XNA4hFSm"
      },
      "source": [
        "## Atributos"
      ]
    },
    {
      "cell_type": "code",
      "metadata": {
        "id": "AlLAVkSJhRzs"
      },
      "source": [
        "class animal:\n",
        "    pass\n",
        "\n",
        "x = animal()\n",
        "y = animal()\n",
        " \n",
        "x.name = 'Gato'\n",
        "x.born_year = '2020'\n",
        "x.pelo = 'branco'\n",
        " \n",
        "y.name = 'Cachorro'\n",
        "y.born_year = '2019'"
      ],
      "execution_count": null,
      "outputs": []
    },
    {
      "cell_type": "code",
      "metadata": {
        "id": "EiG7W4h9pWB4",
        "colab": {
          "base_uri": "https://localhost:8080/"
        },
        "outputId": "92e7db9c-6e04-4808-8a91-475c9af1c561"
      },
      "source": [
        "print(x.name)"
      ],
      "execution_count": null,
      "outputs": [
        {
          "output_type": "stream",
          "text": [
            "Gato\n"
          ],
          "name": "stdout"
        }
      ]
    },
    {
      "cell_type": "code",
      "metadata": {
        "id": "PL7itI2qpZIw",
        "colab": {
          "base_uri": "https://localhost:8080/"
        },
        "outputId": "9f60ba4c-801a-4768-e024-6adbacd4b133"
      },
      "source": [
        "print(y.name)"
      ],
      "execution_count": null,
      "outputs": [
        {
          "output_type": "stream",
          "text": [
            "Cachorro\n"
          ],
          "name": "stdout"
        }
      ]
    },
    {
      "cell_type": "code",
      "metadata": {
        "id": "hQyxU_N1pr-w",
        "colab": {
          "base_uri": "https://localhost:8080/"
        },
        "outputId": "8e588c8b-b166-42f2-aa26-0998bdc215b9"
      },
      "source": [
        "print(x.born_year)"
      ],
      "execution_count": null,
      "outputs": [
        {
          "output_type": "stream",
          "text": [
            "2020\n"
          ],
          "name": "stdout"
        }
      ]
    },
    {
      "cell_type": "code",
      "metadata": {
        "id": "-PRUEowLpwPp",
        "colab": {
          "base_uri": "https://localhost:8080/"
        },
        "outputId": "31ef8a33-b33b-4cdf-ec38-9ffe732f92dd"
      },
      "source": [
        "print(y.born_year)"
      ],
      "execution_count": null,
      "outputs": [
        {
          "output_type": "stream",
          "text": [
            "2019\n"
          ],
          "name": "stdout"
        }
      ]
    },
    {
      "cell_type": "code",
      "metadata": {
        "colab": {
          "base_uri": "https://localhost:8080/"
        },
        "id": "PeGq2fyxpVpj",
        "outputId": "691057e5-2fa4-4fbf-8310-03006c08716f"
      },
      "source": [
        "print(x.pelo)"
      ],
      "execution_count": null,
      "outputs": [
        {
          "output_type": "stream",
          "text": [
            "branco\n"
          ],
          "name": "stdout"
        }
      ]
    },
    {
      "cell_type": "code",
      "metadata": {
        "id": "QtAapUJtrhjP",
        "colab": {
          "base_uri": "https://localhost:8080/"
        },
        "outputId": "b80a11e3-27bf-4970-da7e-af0bae1109e2"
      },
      "source": [
        "x.__dict__"
      ],
      "execution_count": null,
      "outputs": [
        {
          "output_type": "execute_result",
          "data": {
            "text/plain": [
              "{'born_year': '2020', 'name': 'Gato', 'pelo': 'branco'}"
            ]
          },
          "metadata": {
            "tags": []
          },
          "execution_count": 25
        }
      ]
    },
    {
      "cell_type": "code",
      "metadata": {
        "id": "f7oBhujYrk-f",
        "colab": {
          "base_uri": "https://localhost:8080/"
        },
        "outputId": "63d5f39e-3e84-44f8-802e-af8e3d8d1b96"
      },
      "source": [
        "y.__dict__"
      ],
      "execution_count": null,
      "outputs": [
        {
          "output_type": "execute_result",
          "data": {
            "text/plain": [
              "{'born_year': '2019', 'name': 'Cachorro'}"
            ]
          },
          "metadata": {
            "tags": []
          },
          "execution_count": 26
        }
      ]
    },
    {
      "cell_type": "code",
      "metadata": {
        "id": "8YXMnKERrs8H",
        "colab": {
          "base_uri": "https://localhost:8080/"
        },
        "outputId": "699a0000-d952-4121-8323-250f73d0507a"
      },
      "source": [
        "list.__dict__"
      ],
      "execution_count": null,
      "outputs": [
        {
          "output_type": "execute_result",
          "data": {
            "text/plain": [
              "mappingproxy({'__add__': <slot wrapper '__add__' of 'list' objects>,\n",
              "              '__contains__': <slot wrapper '__contains__' of 'list' objects>,\n",
              "              '__delitem__': <slot wrapper '__delitem__' of 'list' objects>,\n",
              "              '__doc__': 'Built-in mutable sequence.\\n\\nIf no argument is given, the constructor creates a new empty list.\\nThe argument must be an iterable if specified.',\n",
              "              '__eq__': <slot wrapper '__eq__' of 'list' objects>,\n",
              "              '__ge__': <slot wrapper '__ge__' of 'list' objects>,\n",
              "              '__getattribute__': <slot wrapper '__getattribute__' of 'list' objects>,\n",
              "              '__getitem__': <method '__getitem__' of 'list' objects>,\n",
              "              '__gt__': <slot wrapper '__gt__' of 'list' objects>,\n",
              "              '__hash__': None,\n",
              "              '__iadd__': <slot wrapper '__iadd__' of 'list' objects>,\n",
              "              '__imul__': <slot wrapper '__imul__' of 'list' objects>,\n",
              "              '__init__': <slot wrapper '__init__' of 'list' objects>,\n",
              "              '__iter__': <slot wrapper '__iter__' of 'list' objects>,\n",
              "              '__le__': <slot wrapper '__le__' of 'list' objects>,\n",
              "              '__len__': <slot wrapper '__len__' of 'list' objects>,\n",
              "              '__lt__': <slot wrapper '__lt__' of 'list' objects>,\n",
              "              '__mul__': <slot wrapper '__mul__' of 'list' objects>,\n",
              "              '__ne__': <slot wrapper '__ne__' of 'list' objects>,\n",
              "              '__new__': <function list.__new__>,\n",
              "              '__repr__': <slot wrapper '__repr__' of 'list' objects>,\n",
              "              '__reversed__': <method '__reversed__' of 'list' objects>,\n",
              "              '__rmul__': <slot wrapper '__rmul__' of 'list' objects>,\n",
              "              '__setitem__': <slot wrapper '__setitem__' of 'list' objects>,\n",
              "              '__sizeof__': <method '__sizeof__' of 'list' objects>,\n",
              "              'append': <method 'append' of 'list' objects>,\n",
              "              'clear': <method 'clear' of 'list' objects>,\n",
              "              'copy': <method 'copy' of 'list' objects>,\n",
              "              'count': <method 'count' of 'list' objects>,\n",
              "              'extend': <method 'extend' of 'list' objects>,\n",
              "              'index': <method 'index' of 'list' objects>,\n",
              "              'insert': <method 'insert' of 'list' objects>,\n",
              "              'pop': <method 'pop' of 'list' objects>,\n",
              "              'remove': <method 'remove' of 'list' objects>,\n",
              "              'reverse': <method 'reverse' of 'list' objects>,\n",
              "              'sort': <method 'sort' of 'list' objects>})"
            ]
          },
          "metadata": {
            "tags": []
          },
          "execution_count": 27
        }
      ]
    },
    {
      "cell_type": "code",
      "metadata": {
        "id": "haEWfsKreby0",
        "colab": {
          "base_uri": "https://localhost:8080/"
        },
        "outputId": "37b25c07-9243-4123-8138-c4419b72a573"
      },
      "source": [
        "tuple.__dict__"
      ],
      "execution_count": null,
      "outputs": [
        {
          "output_type": "execute_result",
          "data": {
            "text/plain": [
              "mappingproxy({'__add__': <slot wrapper '__add__' of 'tuple' objects>,\n",
              "              '__contains__': <slot wrapper '__contains__' of 'tuple' objects>,\n",
              "              '__doc__': \"Built-in immutable sequence.\\n\\nIf no argument is given, the constructor returns an empty tuple.\\nIf iterable is specified the tuple is initialized from iterable's items.\\n\\nIf the argument is a tuple, the return value is the same object.\",\n",
              "              '__eq__': <slot wrapper '__eq__' of 'tuple' objects>,\n",
              "              '__ge__': <slot wrapper '__ge__' of 'tuple' objects>,\n",
              "              '__getattribute__': <slot wrapper '__getattribute__' of 'tuple' objects>,\n",
              "              '__getitem__': <slot wrapper '__getitem__' of 'tuple' objects>,\n",
              "              '__getnewargs__': <method '__getnewargs__' of 'tuple' objects>,\n",
              "              '__gt__': <slot wrapper '__gt__' of 'tuple' objects>,\n",
              "              '__hash__': <slot wrapper '__hash__' of 'tuple' objects>,\n",
              "              '__iter__': <slot wrapper '__iter__' of 'tuple' objects>,\n",
              "              '__le__': <slot wrapper '__le__' of 'tuple' objects>,\n",
              "              '__len__': <slot wrapper '__len__' of 'tuple' objects>,\n",
              "              '__lt__': <slot wrapper '__lt__' of 'tuple' objects>,\n",
              "              '__mul__': <slot wrapper '__mul__' of 'tuple' objects>,\n",
              "              '__ne__': <slot wrapper '__ne__' of 'tuple' objects>,\n",
              "              '__new__': <function tuple.__new__>,\n",
              "              '__repr__': <slot wrapper '__repr__' of 'tuple' objects>,\n",
              "              '__rmul__': <slot wrapper '__rmul__' of 'tuple' objects>,\n",
              "              'count': <method 'count' of 'tuple' objects>,\n",
              "              'index': <method 'index' of 'tuple' objects>})"
            ]
          },
          "metadata": {
            "tags": []
          },
          "execution_count": 12
        }
      ]
    },
    {
      "cell_type": "code",
      "metadata": {
        "colab": {
          "base_uri": "https://localhost:8080/"
        },
        "id": "fs-azIYWqJMv",
        "outputId": "f8c1cdb2-6727-44c0-b1c4-48805755bf60"
      },
      "source": [
        "set.__dict__"
      ],
      "execution_count": null,
      "outputs": [
        {
          "output_type": "execute_result",
          "data": {
            "text/plain": [
              "mappingproxy({'__and__': <slot wrapper '__and__' of 'set' objects>,\n",
              "              '__contains__': <method '__contains__' of 'set' objects>,\n",
              "              '__doc__': 'set() -> new empty set object\\nset(iterable) -> new set object\\n\\nBuild an unordered collection of unique elements.',\n",
              "              '__eq__': <slot wrapper '__eq__' of 'set' objects>,\n",
              "              '__ge__': <slot wrapper '__ge__' of 'set' objects>,\n",
              "              '__getattribute__': <slot wrapper '__getattribute__' of 'set' objects>,\n",
              "              '__gt__': <slot wrapper '__gt__' of 'set' objects>,\n",
              "              '__hash__': None,\n",
              "              '__iand__': <slot wrapper '__iand__' of 'set' objects>,\n",
              "              '__init__': <slot wrapper '__init__' of 'set' objects>,\n",
              "              '__ior__': <slot wrapper '__ior__' of 'set' objects>,\n",
              "              '__isub__': <slot wrapper '__isub__' of 'set' objects>,\n",
              "              '__iter__': <slot wrapper '__iter__' of 'set' objects>,\n",
              "              '__ixor__': <slot wrapper '__ixor__' of 'set' objects>,\n",
              "              '__le__': <slot wrapper '__le__' of 'set' objects>,\n",
              "              '__len__': <slot wrapper '__len__' of 'set' objects>,\n",
              "              '__lt__': <slot wrapper '__lt__' of 'set' objects>,\n",
              "              '__ne__': <slot wrapper '__ne__' of 'set' objects>,\n",
              "              '__new__': <function set.__new__>,\n",
              "              '__or__': <slot wrapper '__or__' of 'set' objects>,\n",
              "              '__rand__': <slot wrapper '__rand__' of 'set' objects>,\n",
              "              '__reduce__': <method '__reduce__' of 'set' objects>,\n",
              "              '__repr__': <slot wrapper '__repr__' of 'set' objects>,\n",
              "              '__ror__': <slot wrapper '__ror__' of 'set' objects>,\n",
              "              '__rsub__': <slot wrapper '__rsub__' of 'set' objects>,\n",
              "              '__rxor__': <slot wrapper '__rxor__' of 'set' objects>,\n",
              "              '__sizeof__': <method '__sizeof__' of 'set' objects>,\n",
              "              '__sub__': <slot wrapper '__sub__' of 'set' objects>,\n",
              "              '__xor__': <slot wrapper '__xor__' of 'set' objects>,\n",
              "              'add': <method 'add' of 'set' objects>,\n",
              "              'clear': <method 'clear' of 'set' objects>,\n",
              "              'copy': <method 'copy' of 'set' objects>,\n",
              "              'difference': <method 'difference' of 'set' objects>,\n",
              "              'difference_update': <method 'difference_update' of 'set' objects>,\n",
              "              'discard': <method 'discard' of 'set' objects>,\n",
              "              'intersection': <method 'intersection' of 'set' objects>,\n",
              "              'intersection_update': <method 'intersection_update' of 'set' objects>,\n",
              "              'isdisjoint': <method 'isdisjoint' of 'set' objects>,\n",
              "              'issubset': <method 'issubset' of 'set' objects>,\n",
              "              'issuperset': <method 'issuperset' of 'set' objects>,\n",
              "              'pop': <method 'pop' of 'set' objects>,\n",
              "              'remove': <method 'remove' of 'set' objects>,\n",
              "              'symmetric_difference': <method 'symmetric_difference' of 'set' objects>,\n",
              "              'symmetric_difference_update': <method 'symmetric_difference_update' of 'set' objects>,\n",
              "              'union': <method 'union' of 'set' objects>,\n",
              "              'update': <method 'update' of 'set' objects>})"
            ]
          },
          "metadata": {
            "tags": []
          },
          "execution_count": 28
        }
      ]
    },
    {
      "cell_type": "markdown",
      "metadata": {
        "id": "gaZ2iHjAhMbd"
      },
      "source": [
        "## Métodos"
      ]
    },
    {
      "cell_type": "markdown",
      "metadata": {
        "id": "fg4Jq_iftcl5"
      },
      "source": [
        "**Métodos em Python são essencialmente funções!**"
      ]
    },
    {
      "cell_type": "code",
      "metadata": {
        "id": "QMOTcA-wtfD-",
        "colab": {
          "base_uri": "https://localhost:8080/"
        },
        "outputId": "30aa0639-28bd-469a-db46-bff4b5647a52"
      },
      "source": [
        "# Criando uma função que faz nosso gato dizer oi\n",
        "\n",
        "def oi(obj):\n",
        "    print('Miau. Eu sou o gato ' + obj.name + '!')\n",
        "\n",
        "class animal:\n",
        "    pass\n",
        "\n",
        "x = animal()\n",
        "x.name = 'Bilbo'\n",
        "oi(x)"
      ],
      "execution_count": null,
      "outputs": [
        {
          "output_type": "stream",
          "text": [
            "Miau. Eu sou o gato Bilbo!\n"
          ],
          "name": "stdout"
        }
      ]
    },
    {
      "cell_type": "code",
      "metadata": {
        "id": "ngWbyhJ20aeo",
        "colab": {
          "base_uri": "https://localhost:8080/"
        },
        "outputId": "9f6601f3-06c3-4184-9eeb-0f729e32806d"
      },
      "source": [
        "def miau(obj):\n",
        "    print('Miau!')\n",
        "\n",
        "def ronronar(obj):\n",
        "  print('prprprpr')\n",
        "\n",
        "class animal:\n",
        "    miar = miau\n",
        "    ronronar = ronronar\n",
        "\n",
        "x = animal()\n",
        "x.name = 'Bilbo'\n",
        "animal.ronronar(x)"
      ],
      "execution_count": null,
      "outputs": [
        {
          "output_type": "stream",
          "text": [
            "prprprpr\n"
          ],
          "name": "stdout"
        }
      ]
    },
    {
      "cell_type": "markdown",
      "metadata": {
        "id": "TlpMbBN1_n3D"
      },
      "source": [
        "## Método __ init __"
      ]
    },
    {
      "cell_type": "markdown",
      "metadata": {
        "id": "Pk5HH5qYSlAt"
      },
      "source": [
        "Queremos definir os atributos de uma instância logo após sua criação. __ init __ é um método que é imediatamente e automaticamente chamado após a criação de uma instância. Este nome é fixo e não é possível escolher outro nome. __ init __ é um dos chamados métodos mágicos, iremos conhecê-lo com mais alguns detalhes posteriormente. \n",
        "\n",
        "O método __ init __ é usado para inicializar uma instância. Não existe um construtor ou método destruidor explícito em Python, como são conhecidos em C ++ e Java. O método __ init __ pode estar em qualquer lugar em uma definição de classe, mas geralmente é o primeiro método de uma classe, ou seja, segue logo após o cabeçalho da classe."
      ]
    },
    {
      "cell_type": "code",
      "metadata": {
        "id": "5y27D_DO_soh",
        "colab": {
          "base_uri": "https://localhost:8080/"
        },
        "outputId": "2288c3f3-0e13-47a5-d60d-8dbf903e74f6"
      },
      "source": [
        "# Init cria o objeto da classe\n",
        "\n",
        "class animal:\n",
        "    def __init__(self): # Padrão especificado pela PEP-8. \"self = nome classe\"\n",
        "        print('__init__ foi executado!')\n",
        "\n",
        "x = animal()"
      ],
      "execution_count": null,
      "outputs": [
        {
          "output_type": "stream",
          "text": [
            "__init__ foi executado!\n"
          ],
          "name": "stdout"
        }
      ]
    },
    {
      "cell_type": "code",
      "metadata": {
        "id": "gzZyYnqBaBdP"
      },
      "source": [
        "class animal:\n",
        "    def __init__(self, patas, olhos):\n",
        "        self.patas = patas\n",
        "        self.olhos = olhos"
      ],
      "execution_count": null,
      "outputs": []
    },
    {
      "cell_type": "code",
      "metadata": {
        "id": "SGV3mQdjTa4j",
        "colab": {
          "base_uri": "https://localhost:8080/"
        },
        "outputId": "96793064-a353-481e-d379-0250074b17ba"
      },
      "source": [
        "class animal:\n",
        " \n",
        "    def __init__(self, name=None):\n",
        "        self.name = name   \n",
        "        \n",
        "    def miau(self):\n",
        "        if self.name:\n",
        "            print('miau, eu sou ' + self.name)\n",
        "        else:\n",
        "            print('prprprpr')\n",
        "    \n",
        "\n",
        "x = animal()\n",
        "x.miau()\n",
        "\n",
        "y = animal('Bilbo')\n",
        "y.miau()"
      ],
      "execution_count": null,
      "outputs": [
        {
          "output_type": "stream",
          "text": [
            "prprprpr\n",
            "miau, eu sou Bilbo\n"
          ],
          "name": "stdout"
        }
      ]
    },
    {
      "cell_type": "markdown",
      "metadata": {
        "id": "lw60uzzqYjaw"
      },
      "source": [
        "## Abstração de dados, encapsulamento de dados e ocultação de informações"
      ]
    },
    {
      "cell_type": "markdown",
      "metadata": {
        "id": "3VLy0KaXY2FR"
      },
      "source": [
        "Abstração de dados, encapsulamento de dados e ocultação de informações são frequentemente usados ​​como sinônimos em livros e tutoriais em OOP. No entanto, existe uma diferença. O encapsulamento é visto como o agrupamento de dados com os métodos que operam nesses dados. O ocultamento de informações, por outro lado, é o princípio de que algumas informações ou dados internos ficam \"ocultos\", de modo que não podem ser alterados acidentalmente. O encapsulamento de dados por meio de métodos não significa necessariamente que os dados estejam ocultos. Você pode ser capaz de acessar e ver os dados de qualquer maneira, mas o uso dos métodos é recomendado. Finalmente, a abstração de dados está presente, se tanto a ocultação de dados quanto o encapsulamento de dados forem usados. Em outras palavras, abstração de dados é o termo mais amplo:\n",
        "\n",
        "Abstração de dados = encapsulamento de dados + ocultação de dados\n",
        "\n",
        "O encapsulamento é geralmente realizado fornecendo dois tipos de métodos para atributos: Os métodos para recuperar ou acessar os valores dos atributos são chamados de métodos getter. Os métodos getter não alteram os valores dos atributos, eles apenas retornam os valores. Os métodos usados ​​para alterar os valores dos atributos são chamados de métodos setter.\n",
        "\n",
        "Vamos definir agora uma classe Robot com um Getter e um Setter para o atributo name. Vamos chamá-los de get_name e set_name de acordo."
      ]
    },
    {
      "cell_type": "code",
      "metadata": {
        "id": "DoaP5CA-Yu2B"
      },
      "source": [
        "class animal:\n",
        " \n",
        "    def __init__(self, name=None):\n",
        "        self.name = name   \n",
        "        \n",
        "    def miau(self):\n",
        "        if self.name:\n",
        "            print('miau, eu sou ' + self.name)\n",
        "        else:\n",
        "            print('prprprpr')\n",
        "            \n",
        "    def set_name(self, name):\n",
        "        self.name = name\n",
        "        \n",
        "    def get_name(self):\n",
        "        return self.name\n",
        "    \n",
        "\n",
        "x = animal()\n",
        "x.set_name('Fiat Argo')\n",
        "x.miau()\n",
        "\n",
        "y = animal()\n",
        "y.set_name(x.get_name())\n",
        "print(y.get_name())"
      ],
      "execution_count": null,
      "outputs": []
    },
    {
      "cell_type": "markdown",
      "metadata": {
        "id": "uNNJrJO4bL6A"
      },
      "source": [
        "## Atributo Público, Privado e Protegidos"
      ]
    },
    {
      "cell_type": "markdown",
      "metadata": {
        "id": "xOqNU5nQcLvJ"
      },
      "source": [
        "Atributos privados devem ser usados apenas pelo proprietário, ou seja, dentro da própria definição de classe.\n",
        "\n",
        "Atributos protegidos (restritos) podem ser usados, mas por sua própria conta e risco. Essencialmente, eles só devem ser usados sob certas condições.\n",
        "\n",
        "Atributos públicos podem e devem ser usados livremente."
      ]
    },
    {
      "cell_type": "code",
      "metadata": {
        "id": "noXeJgkcbcvo"
      },
      "source": [
        "class animal():\n",
        "    \n",
        "    def __init__(self):\n",
        "        self.__priv = 'Privado'\n",
        "        self._prot = 'Protegido'\n",
        "        self.pub = 'Público'"
      ],
      "execution_count": null,
      "outputs": []
    }
  ]
}