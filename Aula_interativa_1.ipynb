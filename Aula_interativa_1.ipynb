{
  "nbformat": 4,
  "nbformat_minor": 0,
  "metadata": {
    "colab": {
      "name": "Aula_interativa_1.ipynb",
      "provenance": [],
      "collapsed_sections": [
        "JaY0KQ7DEwNM",
        "JcysZbVyCIFc",
        "p9O8Q4RACFQk",
        "KY5rqWphCiSE",
        "FrK0dv94s42V",
        "_7vTLePiGXT3",
        "CCuWJPuOIgxv",
        "_SlcyRH7IkOW",
        "2DmpiyLmydB7",
        "meiLwQFeLsED",
        "_z4SWnIuL1oh",
        "ZuwPW9tlMT4a",
        "Pp8P3PJkMo6X",
        "ecMIXSeN1gdN",
        "hLxctbAIZnil",
        "tAmUAIBHZsI2",
        "IiPTlnS-ZxR6",
        "lSLDD8F0Z29M"
      ]
    },
    "kernelspec": {
      "name": "python3",
      "display_name": "Python 3"
    }
  },
  "cells": [
    {
      "cell_type": "markdown",
      "metadata": {
        "id": "w95CuZOIcOS8"
      },
      "source": [
        "# **Aula Interativa 1**"
      ]
    },
    {
      "cell_type": "markdown",
      "metadata": {
        "id": "4kzOGx5nora4"
      },
      "source": [
        "Data: 09/08/2021\n",
        "\n",
        "Professor: Erick Faria\n",
        "\n",
        "GitHub: https://github.com/erickfaria\n",
        "\n",
        "youtube: https://www.youtube.com/channel/UCzHAqwm3RSDM-YKdxd4XYTg\n",
        "\n",
        "![frame.png](data:image/png;base64,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)"
      ]
    },
    {
      "cell_type": "markdown",
      "metadata": {
        "id": "uVNXehlNbiEc"
      },
      "source": [
        "Classe: Ideia, abstração, planejamento. Classe tipifica o que será modelado por ela. Ela determina os estados possíveis e os comportamentos que os objetos podem ter.\n",
        "\n",
        "Objeto: Algo concreto; existe na memória do computador.\n",
        "\n",
        "**O objeto é uma instância da classe.**"
      ]
    },
    {
      "cell_type": "markdown",
      "metadata": {
        "id": "T61Q_MLwqMGy"
      },
      "source": [
        "# Programação Orientada a Objetos com Python\n"
      ]
    },
    {
      "cell_type": "code",
      "metadata": {
        "id": "ITVfa9QAWkSK"
      },
      "source": [
        "lista = [1,2,3,4,5,6,7,8,9,10]"
      ],
      "execution_count": null,
      "outputs": []
    },
    {
      "cell_type": "code",
      "metadata": {
        "id": "b6ITTB79Wowy"
      },
      "source": [
        "print(type(lista))"
      ],
      "execution_count": null,
      "outputs": []
    },
    {
      "cell_type": "code",
      "metadata": {
        "id": "AiNwoSPymMWA"
      },
      "source": [
        "print(lista)"
      ],
      "execution_count": null,
      "outputs": []
    },
    {
      "cell_type": "code",
      "metadata": {
        "id": "0-NCBJKsmPKh"
      },
      "source": [
        "x = 42\n",
        "type(x)"
      ],
      "execution_count": null,
      "outputs": []
    },
    {
      "cell_type": "code",
      "metadata": {
        "id": "WliGuzTWmS_4"
      },
      "source": [
        "y = 4.34\n",
        "print(type(y))"
      ],
      "execution_count": null,
      "outputs": []
    },
    {
      "cell_type": "code",
      "metadata": {
        "id": "fshEQheGg-C4"
      },
      "source": [
        "def f(x):\n",
        "    return x + 1\n",
        "    \n",
        "type(f)"
      ],
      "execution_count": null,
      "outputs": []
    },
    {
      "cell_type": "code",
      "metadata": {
        "id": "SdTkvdaImZqQ"
      },
      "source": [
        "import math\n",
        "type(math)"
      ],
      "execution_count": null,
      "outputs": []
    },
    {
      "cell_type": "markdown",
      "metadata": {
        "id": "5qOcrssSmmdB"
      },
      "source": [
        "Uma das muitas classes integradas em Python é a classe de lista, que usamos com frequência em nossos exercícios e exemplos.   \n",
        "\n",
        "A classe list fornece uma variedade de **métodos** para criar listas, para acessar e alterar elementos ou para remover elementos:"
      ]
    },
    {
      "cell_type": "code",
      "metadata": {
        "id": "jjRU-vFymngZ"
      },
      "source": [
        "x = [3,6,9]\n",
        "y = [45, \"abc\"]\n",
        "print(x[1])"
      ],
      "execution_count": null,
      "outputs": []
    },
    {
      "cell_type": "code",
      "metadata": {
        "id": "z1qmvnJwnZcr"
      },
      "source": [
        "x = [3,6,9]\n",
        "x[1] = 99\n",
        "x.append(35)\n",
        "print(x)"
      ],
      "execution_count": null,
      "outputs": []
    },
    {
      "cell_type": "code",
      "metadata": {
        "id": "gJOzbH3bm-KY"
      },
      "source": [
        "y = [45, \"abc\",8]\n",
        "last = y.pop()\n",
        "print(last)"
      ],
      "execution_count": null,
      "outputs": []
    },
    {
      "cell_type": "markdown",
      "metadata": {
        "id": "hGe4MzognLdD"
      },
      "source": [
        "As variáveis ​​x e y do exemplo anterior denotam duas instâncias da classe de lista"
      ]
    },
    {
      "cell_type": "markdown",
      "metadata": {
        "id": "sKh6Yveig_0u"
      },
      "source": [
        "## Criando Classes"
      ]
    },
    {
      "cell_type": "markdown",
      "metadata": {
        "id": "a3y6Uo0xoF_p"
      },
      "source": [
        "Uma classe consiste em duas partes: o cabeçalho e o corpo"
      ]
    },
    {
      "cell_type": "code",
      "metadata": {
        "id": "SQ4mIAOehJVt"
      },
      "source": [
        "class animal:    # Cabeçalho\n",
        "    pass         # Corpo\n",
        "\n",
        "if __name__ == '__main__': # Quando desejamos saber se o estamos executando diretamente, ou importando de módulo\n",
        "    x = animal()       # Animal 1\n",
        "    y = animal()       # Animal 2\n",
        "    y2 = y             # Alias\n",
        "    print(y == y2)\n",
        "    print(y == x)"
      ],
      "execution_count": null,
      "outputs": []
    },
    {
      "cell_type": "code",
      "metadata": {
        "id": "XxxsrUxBolpR"
      },
      "source": [
        "print(type(animal))"
      ],
      "execution_count": null,
      "outputs": []
    },
    {
      "cell_type": "code",
      "metadata": {
        "id": "ID8ISNurooju"
      },
      "source": [
        "class pessoa:\n",
        "  pass"
      ],
      "execution_count": null,
      "outputs": []
    },
    {
      "cell_type": "code",
      "metadata": {
        "id": "yz6KqgRlorqh"
      },
      "source": [
        "print(type(pessoa))"
      ],
      "execution_count": null,
      "outputs": []
    },
    {
      "cell_type": "markdown",
      "metadata": {
        "id": "aJQ1XNA4hFSm"
      },
      "source": [
        "## Atributos"
      ]
    },
    {
      "cell_type": "code",
      "metadata": {
        "id": "AlLAVkSJhRzs"
      },
      "source": [
        "class animal:\n",
        "    pass\n",
        "\n",
        "x = animal()\n",
        "y = animal()\n",
        " \n",
        "x.name = 'Gato'\n",
        "x.born_year = '2020'\n",
        "x.pelo = 'branco'\n",
        " \n",
        "y.name = 'Cachorro'\n",
        "y.born_year = '2019'\n",
        "y.pelo = 'preto'"
      ],
      "execution_count": null,
      "outputs": []
    },
    {
      "cell_type": "code",
      "metadata": {
        "id": "EiG7W4h9pWB4"
      },
      "source": [
        "print(x.name)"
      ],
      "execution_count": null,
      "outputs": []
    },
    {
      "cell_type": "code",
      "metadata": {
        "id": "PL7itI2qpZIw"
      },
      "source": [
        "print(y.name)"
      ],
      "execution_count": null,
      "outputs": []
    },
    {
      "cell_type": "code",
      "metadata": {
        "id": "hQyxU_N1pr-w"
      },
      "source": [
        "print(x.born_year)"
      ],
      "execution_count": null,
      "outputs": []
    },
    {
      "cell_type": "code",
      "metadata": {
        "id": "-PRUEowLpwPp"
      },
      "source": [
        "print(y.born_year)"
      ],
      "execution_count": null,
      "outputs": []
    },
    {
      "cell_type": "code",
      "metadata": {
        "id": "PeGq2fyxpVpj"
      },
      "source": [
        "print(x.pelo)"
      ],
      "execution_count": null,
      "outputs": []
    },
    {
      "cell_type": "code",
      "metadata": {
        "id": "QtAapUJtrhjP"
      },
      "source": [
        "x.__dict__"
      ],
      "execution_count": null,
      "outputs": []
    },
    {
      "cell_type": "code",
      "metadata": {
        "id": "f7oBhujYrk-f"
      },
      "source": [
        "y.__dict__"
      ],
      "execution_count": null,
      "outputs": []
    },
    {
      "cell_type": "code",
      "metadata": {
        "id": "8YXMnKERrs8H"
      },
      "source": [
        "list.__dict__"
      ],
      "execution_count": null,
      "outputs": []
    },
    {
      "cell_type": "code",
      "metadata": {
        "id": "haEWfsKreby0"
      },
      "source": [
        "tuple.__dict__"
      ],
      "execution_count": null,
      "outputs": []
    },
    {
      "cell_type": "code",
      "metadata": {
        "id": "fs-azIYWqJMv"
      },
      "source": [
        "set.__dict__"
      ],
      "execution_count": null,
      "outputs": []
    },
    {
      "cell_type": "markdown",
      "metadata": {
        "id": "gaZ2iHjAhMbd"
      },
      "source": [
        "## Métodos"
      ]
    },
    {
      "cell_type": "markdown",
      "metadata": {
        "id": "fg4Jq_iftcl5"
      },
      "source": [
        "**Métodos em Python são essencialmente funções!**"
      ]
    },
    {
      "cell_type": "code",
      "metadata": {
        "id": "QMOTcA-wtfD-"
      },
      "source": [
        "# Criando uma função que faz nosso gato dizer oi\n",
        "\n",
        "def oi(obj):\n",
        "      print('Miau. Eu sou o gato ' + obj.name + '!')\n",
        "\n",
        "class animal:\n",
        "    continue\n",
        "\n",
        "x = animal()\n",
        "x.name = 'Bilbo'\n",
        "x.pelo = 'Branco'\n",
        "oi(x)"
      ],
      "execution_count": null,
      "outputs": []
    },
    {
      "cell_type": "code",
      "metadata": {
        "id": "ngWbyhJ20aeo"
      },
      "source": [
        "def miau(obj):\n",
        "    print('Miau!')\n",
        "\n",
        "def ronronar(obj):\n",
        "  print('prprprpr')\n",
        "\n",
        "class animal:\n",
        "    miar = miau\n",
        "    ronronar = ronronar\n",
        "\n",
        "x = animal()\n",
        "x.name = 'Bilbo'\n",
        "x.peso = 4\n",
        "animal.miar(dffdf)"
      ],
      "execution_count": null,
      "outputs": []
    },
    {
      "cell_type": "markdown",
      "metadata": {
        "id": "TlpMbBN1_n3D"
      },
      "source": [
        "## Método __ init __"
      ]
    },
    {
      "cell_type": "markdown",
      "metadata": {
        "id": "Pk5HH5qYSlAt"
      },
      "source": [
        "Queremos definir os atributos de uma instância logo após sua criação. __ init __ é um método que é imediatamente e automaticamente chamado após a criação de uma instância. Este nome é fixo e não é possível escolher outro nome. __ init __ é um dos chamados métodos mágicos, iremos conhecê-lo com mais alguns detalhes posteriormente. \n",
        "\n",
        "O método __ init __ é usado para inicializar uma instância. Não existe um construtor ou método destruidor explícito em Python, como são conhecidos em C ++ e Java. O método __ init __ pode estar em qualquer lugar em uma definição de classe, mas geralmente é o primeiro método de uma classe, ou seja, segue logo após o cabeçalho da classe."
      ]
    },
    {
      "cell_type": "code",
      "metadata": {
        "id": "5y27D_DO_soh"
      },
      "source": [
        "# Init cria o objeto da classe\n",
        "\n",
        "class animal:\n",
        "    def __init__(self): # Padrão especificado pela PEP-8. \"self = nome classe\"\n",
        "        print('__init__ foi executado!')\n",
        "\n",
        "x = animal()"
      ],
      "execution_count": null,
      "outputs": []
    },
    {
      "cell_type": "code",
      "metadata": {
        "id": "gzZyYnqBaBdP"
      },
      "source": [
        "class animal:\n",
        "    def __init__(self, patas, olhos):\n",
        "        self.patas = patas\n",
        "        self.olhos = olhos"
      ],
      "execution_count": null,
      "outputs": []
    },
    {
      "cell_type": "code",
      "metadata": {
        "id": "SGV3mQdjTa4j"
      },
      "source": [
        "class animal:\n",
        " \n",
        "    def __init__(self, name=None):\n",
        "        self.name = name   \n",
        "        \n",
        "    def miau(self):\n",
        "        if self.name:\n",
        "            print('miau, eu sou ' + self.name)\n",
        "        else:\n",
        "            print('prprprpr')\n",
        "    \n",
        "\n",
        "x = animal()\n",
        "x.miau()\n",
        "\n",
        "y = animal('Bilbo')\n",
        "y.miau()"
      ],
      "execution_count": null,
      "outputs": []
    },
    {
      "cell_type": "markdown",
      "metadata": {
        "id": "lw60uzzqYjaw"
      },
      "source": [
        "## Abstração de dados, encapsulamento de dados e ocultação de informações"
      ]
    },
    {
      "cell_type": "markdown",
      "metadata": {
        "id": "3VLy0KaXY2FR"
      },
      "source": [
        "Abstração de dados, encapsulamento de dados e ocultação de informações são frequentemente usados ​​como sinônimos em livros e tutoriais em OOP. No entanto, existe uma diferença. O encapsulamento é visto como o agrupamento de dados com os métodos que operam nesses dados. O ocultamento de informações, por outro lado, é o princípio de que algumas informações ou dados internos ficam \"ocultos\", de modo que não podem ser alterados acidentalmente. O encapsulamento de dados por meio de métodos não significa necessariamente que os dados estejam ocultos. Você pode ser capaz de acessar e ver os dados de qualquer maneira, mas o uso dos métodos é recomendado. Finalmente, a abstração de dados está presente, se tanto a ocultação de dados quanto o encapsulamento de dados forem usados. Em outras palavras, abstração de dados é o termo mais amplo:\n",
        "\n",
        "Abstração de dados = encapsulamento de dados + ocultação de dados\n",
        "\n",
        "O encapsulamento é geralmente realizado fornecendo dois tipos de métodos para atributos: Os métodos para recuperar ou acessar os valores dos atributos são chamados de métodos getter. Os métodos getter não alteram os valores dos atributos, eles apenas retornam os valores. Os métodos usados ​​para alterar os valores dos atributos são chamados de métodos setter.\n",
        "\n",
        "Vamos definir agora uma classe Robot com um Getter e um Setter para o atributo name. Vamos chamá-los de get_name e set_name de acordo."
      ]
    },
    {
      "cell_type": "code",
      "metadata": {
        "id": "DoaP5CA-Yu2B"
      },
      "source": [
        "class animal:\n",
        " \n",
        "    def __init__(self, name=None):\n",
        "        self.name = name   \n",
        "        \n",
        "    def miau(self):\n",
        "        if self.name:\n",
        "            print('miau, eu sou ' + self.name)\n",
        "        else:\n",
        "            print('prprprpr')\n",
        "            \n",
        "    def set_name(self, name):\n",
        "        self.name = name\n",
        "        \n",
        "    def get_name(self):\n",
        "        return self.name\n",
        "    \n",
        "\n",
        "x = animal()\n",
        "x.set_name('Fiat Argo')\n",
        "x.miau()\n",
        "\n",
        "y = animal()\n",
        "y.set_name(x.get_name())\n",
        "print(y.get_name())"
      ],
      "execution_count": null,
      "outputs": []
    },
    {
      "cell_type": "markdown",
      "metadata": {
        "id": "uNNJrJO4bL6A"
      },
      "source": [
        "## Atributo Público, Privado e Protegidos"
      ]
    },
    {
      "cell_type": "markdown",
      "metadata": {
        "id": "xOqNU5nQcLvJ"
      },
      "source": [
        "Atributos privados devem ser usados apenas pelo proprietário, ou seja, dentro da própria definição de classe.\n",
        "\n",
        "Atributos protegidos (restritos) podem ser usados, mas por sua própria conta e risco. Essencialmente, eles só devem ser usados sob certas condições.\n",
        "\n",
        "Atributos públicos podem e devem ser usados livremente."
      ]
    },
    {
      "cell_type": "code",
      "metadata": {
        "id": "noXeJgkcbcvo"
      },
      "source": [
        "class animal():\n",
        "    \n",
        "    def __init__(self):\n",
        "        self.__priv = 'Privado'\n",
        "        self._prot = 'Protegido'\n",
        "        self.pub = 'Público'"
      ],
      "execution_count": null,
      "outputs": []
    }
  ]
}